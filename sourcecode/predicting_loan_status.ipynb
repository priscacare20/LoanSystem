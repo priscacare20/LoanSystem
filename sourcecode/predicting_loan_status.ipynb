{
 "cells": [
  {
   "cell_type": "markdown",
   "id": "ed03dfce",
   "metadata": {},
   "source": [
    "# PREDICTING LOAN STATUS \n",
    "<h4>Problem Statement:</h4>The loan department spend a lot of time and effort manually analyzing the information of all customers seeking for loan approval. Most times, these customer do not meet all requirements, resulting to waste of resources.\n",
    "<h4>Objectives:</h4> Build a machine learning model, which utilizes available customer's data to accurately predict the status/outcome of a loan application.\n",
    "<h4>Business Value:</h4> \n",
    " - 1. Saves time and resources, allowing business to focus on cutomers with better chance of being approved.\n",
    " \n",
    " \n",
    "<h4>By:</h4> Prisca Ekhaeyemhe \n",
    "\n"
   ]
  },
  {
   "cell_type": "code",
   "execution_count": 1,
   "id": "485130fc",
   "metadata": {},
   "outputs": [],
   "source": [
    "# import needed libraries\n",
    "import pandas as pd\n",
    "import numpy as np\n",
    "import matplotlib.pyplot as plt\n",
    "import seaborn as sns\n",
    "%matplotlib inline"
   ]
  },
  {
   "cell_type": "markdown",
   "id": "0ead760d",
   "metadata": {},
   "source": [
    "## DATA EXPLORATION"
   ]
  },
  {
   "cell_type": "code",
   "execution_count": 2,
   "id": "9ef744bb",
   "metadata": {},
   "outputs": [],
   "source": [
    "df = pd.read_excel(\"loan_default.xlsx\")"
   ]
  },
  {
   "cell_type": "code",
   "execution_count": 3,
   "id": "c88ca742",
   "metadata": {},
   "outputs": [
    {
     "data": {
      "text/html": [
       "<div>\n",
       "<style scoped>\n",
       "    .dataframe tbody tr th:only-of-type {\n",
       "        vertical-align: middle;\n",
       "    }\n",
       "\n",
       "    .dataframe tbody tr th {\n",
       "        vertical-align: top;\n",
       "    }\n",
       "\n",
       "    .dataframe thead th {\n",
       "        text-align: right;\n",
       "    }\n",
       "</style>\n",
       "<table border=\"1\" class=\"dataframe\">\n",
       "  <thead>\n",
       "    <tr style=\"text-align: right;\">\n",
       "      <th></th>\n",
       "      <th>Unnamed: 0</th>\n",
       "      <th>ID</th>\n",
       "      <th>year</th>\n",
       "      <th>loan_limit</th>\n",
       "      <th>Gender</th>\n",
       "      <th>approv_in_adv</th>\n",
       "      <th>loan_type</th>\n",
       "      <th>loan_purpose</th>\n",
       "      <th>Credit_Worthiness</th>\n",
       "      <th>open_credit</th>\n",
       "      <th>...</th>\n",
       "      <th>credit_type</th>\n",
       "      <th>Credit_Score</th>\n",
       "      <th>co-applicant_credit_type</th>\n",
       "      <th>age</th>\n",
       "      <th>submission_of_application</th>\n",
       "      <th>LTV</th>\n",
       "      <th>Region</th>\n",
       "      <th>Security_Type</th>\n",
       "      <th>Status</th>\n",
       "      <th>dtir1</th>\n",
       "    </tr>\n",
       "  </thead>\n",
       "  <tbody>\n",
       "    <tr>\n",
       "      <th>0</th>\n",
       "      <td>140148</td>\n",
       "      <td>165038</td>\n",
       "      <td>2019</td>\n",
       "      <td>cf</td>\n",
       "      <td>Sex Not Available</td>\n",
       "      <td>pre</td>\n",
       "      <td>type1</td>\n",
       "      <td>p1</td>\n",
       "      <td>l1</td>\n",
       "      <td>nopc</td>\n",
       "      <td>...</td>\n",
       "      <td>CRIF</td>\n",
       "      <td>581</td>\n",
       "      <td>EXP</td>\n",
       "      <td>25-34</td>\n",
       "      <td>to_inst</td>\n",
       "      <td>93.238994</td>\n",
       "      <td>south</td>\n",
       "      <td>direct</td>\n",
       "      <td>0</td>\n",
       "      <td>42.0</td>\n",
       "    </tr>\n",
       "    <tr>\n",
       "      <th>1</th>\n",
       "      <td>124405</td>\n",
       "      <td>149295</td>\n",
       "      <td>2019</td>\n",
       "      <td>cf</td>\n",
       "      <td>Female</td>\n",
       "      <td>nopre</td>\n",
       "      <td>type1</td>\n",
       "      <td>p4</td>\n",
       "      <td>l1</td>\n",
       "      <td>nopc</td>\n",
       "      <td>...</td>\n",
       "      <td>CRIF</td>\n",
       "      <td>899</td>\n",
       "      <td>CIB</td>\n",
       "      <td>35-44</td>\n",
       "      <td>not_inst</td>\n",
       "      <td>89.884868</td>\n",
       "      <td>North</td>\n",
       "      <td>direct</td>\n",
       "      <td>0</td>\n",
       "      <td>36.0</td>\n",
       "    </tr>\n",
       "    <tr>\n",
       "      <th>2</th>\n",
       "      <td>6299</td>\n",
       "      <td>31189</td>\n",
       "      <td>2019</td>\n",
       "      <td>cf</td>\n",
       "      <td>Female</td>\n",
       "      <td>pre</td>\n",
       "      <td>type1</td>\n",
       "      <td>p3</td>\n",
       "      <td>l1</td>\n",
       "      <td>nopc</td>\n",
       "      <td>...</td>\n",
       "      <td>CRIF</td>\n",
       "      <td>679</td>\n",
       "      <td>EXP</td>\n",
       "      <td>45-54</td>\n",
       "      <td>to_inst</td>\n",
       "      <td>80.783582</td>\n",
       "      <td>south</td>\n",
       "      <td>direct</td>\n",
       "      <td>0</td>\n",
       "      <td>31.0</td>\n",
       "    </tr>\n",
       "    <tr>\n",
       "      <th>3</th>\n",
       "      <td>91914</td>\n",
       "      <td>116804</td>\n",
       "      <td>2019</td>\n",
       "      <td>cf</td>\n",
       "      <td>Male</td>\n",
       "      <td>pre</td>\n",
       "      <td>type1</td>\n",
       "      <td>p3</td>\n",
       "      <td>l1</td>\n",
       "      <td>nopc</td>\n",
       "      <td>...</td>\n",
       "      <td>CIB</td>\n",
       "      <td>880</td>\n",
       "      <td>CIB</td>\n",
       "      <td>55-64</td>\n",
       "      <td>to_inst</td>\n",
       "      <td>38.911290</td>\n",
       "      <td>central</td>\n",
       "      <td>direct</td>\n",
       "      <td>0</td>\n",
       "      <td>31.0</td>\n",
       "    </tr>\n",
       "    <tr>\n",
       "      <th>4</th>\n",
       "      <td>116508</td>\n",
       "      <td>141398</td>\n",
       "      <td>2019</td>\n",
       "      <td>cf</td>\n",
       "      <td>Male</td>\n",
       "      <td>nopre</td>\n",
       "      <td>type1</td>\n",
       "      <td>p3</td>\n",
       "      <td>l1</td>\n",
       "      <td>nopc</td>\n",
       "      <td>...</td>\n",
       "      <td>CRIF</td>\n",
       "      <td>745</td>\n",
       "      <td>EXP</td>\n",
       "      <td>65-74</td>\n",
       "      <td>to_inst</td>\n",
       "      <td>53.440367</td>\n",
       "      <td>North</td>\n",
       "      <td>direct</td>\n",
       "      <td>0</td>\n",
       "      <td>35.0</td>\n",
       "    </tr>\n",
       "  </tbody>\n",
       "</table>\n",
       "<p>5 rows × 35 columns</p>\n",
       "</div>"
      ],
      "text/plain": [
       "   Unnamed: 0      ID  year loan_limit             Gender approv_in_adv  \\\n",
       "0      140148  165038  2019         cf  Sex Not Available           pre   \n",
       "1      124405  149295  2019         cf             Female         nopre   \n",
       "2        6299   31189  2019         cf             Female           pre   \n",
       "3       91914  116804  2019         cf               Male           pre   \n",
       "4      116508  141398  2019         cf               Male         nopre   \n",
       "\n",
       "  loan_type loan_purpose Credit_Worthiness open_credit  ... credit_type  \\\n",
       "0     type1           p1                l1        nopc  ...        CRIF   \n",
       "1     type1           p4                l1        nopc  ...        CRIF   \n",
       "2     type1           p3                l1        nopc  ...        CRIF   \n",
       "3     type1           p3                l1        nopc  ...         CIB   \n",
       "4     type1           p3                l1        nopc  ...        CRIF   \n",
       "\n",
       "   Credit_Score  co-applicant_credit_type    age  submission_of_application  \\\n",
       "0           581                       EXP  25-34                    to_inst   \n",
       "1           899                       CIB  35-44                   not_inst   \n",
       "2           679                       EXP  45-54                    to_inst   \n",
       "3           880                       CIB  55-64                    to_inst   \n",
       "4           745                       EXP  65-74                    to_inst   \n",
       "\n",
       "         LTV   Region Security_Type Status  dtir1  \n",
       "0  93.238994    south        direct      0   42.0  \n",
       "1  89.884868    North        direct      0   36.0  \n",
       "2  80.783582    south        direct      0   31.0  \n",
       "3  38.911290  central        direct      0   31.0  \n",
       "4  53.440367    North        direct      0   35.0  \n",
       "\n",
       "[5 rows x 35 columns]"
      ]
     },
     "execution_count": 3,
     "metadata": {},
     "output_type": "execute_result"
    }
   ],
   "source": [
    "df.head()"
   ]
  },
  {
   "cell_type": "code",
   "execution_count": 4,
   "id": "ec5ef2c5",
   "metadata": {},
   "outputs": [
    {
     "data": {
      "text/plain": [
       "(14867, 35)"
      ]
     },
     "execution_count": 4,
     "metadata": {},
     "output_type": "execute_result"
    }
   ],
   "source": [
    "df.shape"
   ]
  },
  {
   "cell_type": "code",
   "execution_count": 5,
   "id": "f1e94d1a",
   "metadata": {},
   "outputs": [
    {
     "data": {
      "text/html": [
       "<div>\n",
       "<style scoped>\n",
       "    .dataframe tbody tr th:only-of-type {\n",
       "        vertical-align: middle;\n",
       "    }\n",
       "\n",
       "    .dataframe tbody tr th {\n",
       "        vertical-align: top;\n",
       "    }\n",
       "\n",
       "    .dataframe thead th {\n",
       "        text-align: right;\n",
       "    }\n",
       "</style>\n",
       "<table border=\"1\" class=\"dataframe\">\n",
       "  <thead>\n",
       "    <tr style=\"text-align: right;\">\n",
       "      <th></th>\n",
       "      <th>Unnamed: 0</th>\n",
       "      <th>ID</th>\n",
       "      <th>year</th>\n",
       "      <th>loan_amount</th>\n",
       "      <th>rate_of_interest</th>\n",
       "      <th>Interest_rate_spread</th>\n",
       "      <th>Upfront_charges</th>\n",
       "      <th>term</th>\n",
       "      <th>property_value</th>\n",
       "      <th>income</th>\n",
       "      <th>Credit_Score</th>\n",
       "      <th>LTV</th>\n",
       "      <th>Status</th>\n",
       "      <th>dtir1</th>\n",
       "    </tr>\n",
       "  </thead>\n",
       "  <tbody>\n",
       "    <tr>\n",
       "      <th>count</th>\n",
       "      <td>14867.000000</td>\n",
       "      <td>14867.000000</td>\n",
       "      <td>14867.0</td>\n",
       "      <td>1.486700e+04</td>\n",
       "      <td>11228.000000</td>\n",
       "      <td>11203.000000</td>\n",
       "      <td>10919.000000</td>\n",
       "      <td>14860.000000</td>\n",
       "      <td>1.336500e+04</td>\n",
       "      <td>13950.000000</td>\n",
       "      <td>14867.000000</td>\n",
       "      <td>13365.000000</td>\n",
       "      <td>14867.000000</td>\n",
       "      <td>12459.000000</td>\n",
       "    </tr>\n",
       "    <tr>\n",
       "      <th>mean</th>\n",
       "      <td>74187.851483</td>\n",
       "      <td>99077.851483</td>\n",
       "      <td>2019.0</td>\n",
       "      <td>3.321353e+05</td>\n",
       "      <td>4.049423</td>\n",
       "      <td>0.443051</td>\n",
       "      <td>3204.867910</td>\n",
       "      <td>335.441992</td>\n",
       "      <td>4.984886e+05</td>\n",
       "      <td>6910.055914</td>\n",
       "      <td>698.705186</td>\n",
       "      <td>73.145668</td>\n",
       "      <td>0.246452</td>\n",
       "      <td>37.796452</td>\n",
       "    </tr>\n",
       "    <tr>\n",
       "      <th>std</th>\n",
       "      <td>43007.014663</td>\n",
       "      <td>43007.014663</td>\n",
       "      <td>0.0</td>\n",
       "      <td>1.818893e+05</td>\n",
       "      <td>0.560483</td>\n",
       "      <td>0.512912</td>\n",
       "      <td>3245.373397</td>\n",
       "      <td>57.963573</td>\n",
       "      <td>3.518242e+05</td>\n",
       "      <td>6099.250080</td>\n",
       "      <td>115.297767</td>\n",
       "      <td>69.693239</td>\n",
       "      <td>0.430959</td>\n",
       "      <td>10.477873</td>\n",
       "    </tr>\n",
       "    <tr>\n",
       "      <th>min</th>\n",
       "      <td>2.000000</td>\n",
       "      <td>24892.000000</td>\n",
       "      <td>2019.0</td>\n",
       "      <td>2.650000e+04</td>\n",
       "      <td>2.250000</td>\n",
       "      <td>-1.046200</td>\n",
       "      <td>0.000000</td>\n",
       "      <td>96.000000</td>\n",
       "      <td>8.000000e+03</td>\n",
       "      <td>0.000000</td>\n",
       "      <td>500.000000</td>\n",
       "      <td>3.125000</td>\n",
       "      <td>0.000000</td>\n",
       "      <td>5.000000</td>\n",
       "    </tr>\n",
       "    <tr>\n",
       "      <th>25%</th>\n",
       "      <td>36661.000000</td>\n",
       "      <td>61551.000000</td>\n",
       "      <td>2019.0</td>\n",
       "      <td>1.965000e+05</td>\n",
       "      <td>3.625000</td>\n",
       "      <td>0.073650</td>\n",
       "      <td>492.040000</td>\n",
       "      <td>360.000000</td>\n",
       "      <td>2.680000e+05</td>\n",
       "      <td>3720.000000</td>\n",
       "      <td>600.000000</td>\n",
       "      <td>60.658915</td>\n",
       "      <td>0.000000</td>\n",
       "      <td>31.000000</td>\n",
       "    </tr>\n",
       "    <tr>\n",
       "      <th>50%</th>\n",
       "      <td>74039.000000</td>\n",
       "      <td>98929.000000</td>\n",
       "      <td>2019.0</td>\n",
       "      <td>2.965000e+05</td>\n",
       "      <td>3.990000</td>\n",
       "      <td>0.391100</td>\n",
       "      <td>2552.500000</td>\n",
       "      <td>360.000000</td>\n",
       "      <td>4.180000e+05</td>\n",
       "      <td>5760.000000</td>\n",
       "      <td>697.000000</td>\n",
       "      <td>75.173611</td>\n",
       "      <td>0.000000</td>\n",
       "      <td>39.000000</td>\n",
       "    </tr>\n",
       "    <tr>\n",
       "      <th>75%</th>\n",
       "      <td>111584.500000</td>\n",
       "      <td>136474.500000</td>\n",
       "      <td>2019.0</td>\n",
       "      <td>4.365000e+05</td>\n",
       "      <td>4.490000</td>\n",
       "      <td>0.778600</td>\n",
       "      <td>4865.000000</td>\n",
       "      <td>360.000000</td>\n",
       "      <td>6.280000e+05</td>\n",
       "      <td>8460.000000</td>\n",
       "      <td>799.500000</td>\n",
       "      <td>86.073825</td>\n",
       "      <td>0.000000</td>\n",
       "      <td>45.000000</td>\n",
       "    </tr>\n",
       "    <tr>\n",
       "      <th>max</th>\n",
       "      <td>148661.000000</td>\n",
       "      <td>173551.000000</td>\n",
       "      <td>2019.0</td>\n",
       "      <td>3.006500e+06</td>\n",
       "      <td>6.240000</td>\n",
       "      <td>1.991500</td>\n",
       "      <td>29015.490000</td>\n",
       "      <td>360.000000</td>\n",
       "      <td>8.508000e+06</td>\n",
       "      <td>335880.000000</td>\n",
       "      <td>900.000000</td>\n",
       "      <td>7831.250000</td>\n",
       "      <td>1.000000</td>\n",
       "      <td>61.000000</td>\n",
       "    </tr>\n",
       "  </tbody>\n",
       "</table>\n",
       "</div>"
      ],
      "text/plain": [
       "          Unnamed: 0             ID     year   loan_amount  rate_of_interest  \\\n",
       "count   14867.000000   14867.000000  14867.0  1.486700e+04      11228.000000   \n",
       "mean    74187.851483   99077.851483   2019.0  3.321353e+05          4.049423   \n",
       "std     43007.014663   43007.014663      0.0  1.818893e+05          0.560483   \n",
       "min         2.000000   24892.000000   2019.0  2.650000e+04          2.250000   \n",
       "25%     36661.000000   61551.000000   2019.0  1.965000e+05          3.625000   \n",
       "50%     74039.000000   98929.000000   2019.0  2.965000e+05          3.990000   \n",
       "75%    111584.500000  136474.500000   2019.0  4.365000e+05          4.490000   \n",
       "max    148661.000000  173551.000000   2019.0  3.006500e+06          6.240000   \n",
       "\n",
       "       Interest_rate_spread  Upfront_charges          term  property_value  \\\n",
       "count          11203.000000     10919.000000  14860.000000    1.336500e+04   \n",
       "mean               0.443051      3204.867910    335.441992    4.984886e+05   \n",
       "std                0.512912      3245.373397     57.963573    3.518242e+05   \n",
       "min               -1.046200         0.000000     96.000000    8.000000e+03   \n",
       "25%                0.073650       492.040000    360.000000    2.680000e+05   \n",
       "50%                0.391100      2552.500000    360.000000    4.180000e+05   \n",
       "75%                0.778600      4865.000000    360.000000    6.280000e+05   \n",
       "max                1.991500     29015.490000    360.000000    8.508000e+06   \n",
       "\n",
       "              income  Credit_Score           LTV        Status         dtir1  \n",
       "count   13950.000000  14867.000000  13365.000000  14867.000000  12459.000000  \n",
       "mean     6910.055914    698.705186     73.145668      0.246452     37.796452  \n",
       "std      6099.250080    115.297767     69.693239      0.430959     10.477873  \n",
       "min         0.000000    500.000000      3.125000      0.000000      5.000000  \n",
       "25%      3720.000000    600.000000     60.658915      0.000000     31.000000  \n",
       "50%      5760.000000    697.000000     75.173611      0.000000     39.000000  \n",
       "75%      8460.000000    799.500000     86.073825      0.000000     45.000000  \n",
       "max    335880.000000    900.000000   7831.250000      1.000000     61.000000  "
      ]
     },
     "execution_count": 5,
     "metadata": {},
     "output_type": "execute_result"
    }
   ],
   "source": [
    "df.describe()"
   ]
  },
  {
   "cell_type": "code",
   "execution_count": 6,
   "id": "00ca77c8",
   "metadata": {},
   "outputs": [
    {
     "data": {
      "text/html": [
       "<div>\n",
       "<style scoped>\n",
       "    .dataframe tbody tr th:only-of-type {\n",
       "        vertical-align: middle;\n",
       "    }\n",
       "\n",
       "    .dataframe tbody tr th {\n",
       "        vertical-align: top;\n",
       "    }\n",
       "\n",
       "    .dataframe thead th {\n",
       "        text-align: right;\n",
       "    }\n",
       "</style>\n",
       "<table border=\"1\" class=\"dataframe\">\n",
       "  <thead>\n",
       "    <tr style=\"text-align: right;\">\n",
       "      <th></th>\n",
       "      <th>loan_limit</th>\n",
       "      <th>Gender</th>\n",
       "      <th>approv_in_adv</th>\n",
       "      <th>loan_type</th>\n",
       "      <th>loan_purpose</th>\n",
       "      <th>Credit_Worthiness</th>\n",
       "      <th>open_credit</th>\n",
       "      <th>business_or_commercial</th>\n",
       "      <th>Neg_ammortization</th>\n",
       "      <th>interest_only</th>\n",
       "      <th>...</th>\n",
       "      <th>construction_type</th>\n",
       "      <th>occupancy_type</th>\n",
       "      <th>Secured_by</th>\n",
       "      <th>total_units</th>\n",
       "      <th>credit_type</th>\n",
       "      <th>co-applicant_credit_type</th>\n",
       "      <th>age</th>\n",
       "      <th>submission_of_application</th>\n",
       "      <th>Region</th>\n",
       "      <th>Security_Type</th>\n",
       "    </tr>\n",
       "  </thead>\n",
       "  <tbody>\n",
       "    <tr>\n",
       "      <th>count</th>\n",
       "      <td>14534</td>\n",
       "      <td>14867</td>\n",
       "      <td>14787</td>\n",
       "      <td>14867</td>\n",
       "      <td>14853</td>\n",
       "      <td>14867</td>\n",
       "      <td>14867</td>\n",
       "      <td>14867</td>\n",
       "      <td>14855</td>\n",
       "      <td>14867</td>\n",
       "      <td>...</td>\n",
       "      <td>14867</td>\n",
       "      <td>14867</td>\n",
       "      <td>14867</td>\n",
       "      <td>14867</td>\n",
       "      <td>14867</td>\n",
       "      <td>14867</td>\n",
       "      <td>14842</td>\n",
       "      <td>14842</td>\n",
       "      <td>14867</td>\n",
       "      <td>14867</td>\n",
       "    </tr>\n",
       "    <tr>\n",
       "      <th>unique</th>\n",
       "      <td>2</td>\n",
       "      <td>4</td>\n",
       "      <td>2</td>\n",
       "      <td>3</td>\n",
       "      <td>4</td>\n",
       "      <td>2</td>\n",
       "      <td>2</td>\n",
       "      <td>2</td>\n",
       "      <td>2</td>\n",
       "      <td>2</td>\n",
       "      <td>...</td>\n",
       "      <td>2</td>\n",
       "      <td>3</td>\n",
       "      <td>2</td>\n",
       "      <td>4</td>\n",
       "      <td>4</td>\n",
       "      <td>2</td>\n",
       "      <td>7</td>\n",
       "      <td>2</td>\n",
       "      <td>4</td>\n",
       "      <td>2</td>\n",
       "    </tr>\n",
       "    <tr>\n",
       "      <th>top</th>\n",
       "      <td>cf</td>\n",
       "      <td>Male</td>\n",
       "      <td>nopre</td>\n",
       "      <td>type1</td>\n",
       "      <td>p3</td>\n",
       "      <td>l1</td>\n",
       "      <td>nopc</td>\n",
       "      <td>nob/c</td>\n",
       "      <td>not_neg</td>\n",
       "      <td>not_int</td>\n",
       "      <td>...</td>\n",
       "      <td>sb</td>\n",
       "      <td>pr</td>\n",
       "      <td>home</td>\n",
       "      <td>1U</td>\n",
       "      <td>CIB</td>\n",
       "      <td>CIB</td>\n",
       "      <td>45-54</td>\n",
       "      <td>to_inst</td>\n",
       "      <td>North</td>\n",
       "      <td>direct</td>\n",
       "    </tr>\n",
       "    <tr>\n",
       "      <th>freq</th>\n",
       "      <td>13583</td>\n",
       "      <td>4323</td>\n",
       "      <td>12522</td>\n",
       "      <td>11360</td>\n",
       "      <td>5633</td>\n",
       "      <td>14274</td>\n",
       "      <td>14817</td>\n",
       "      <td>12760</td>\n",
       "      <td>13378</td>\n",
       "      <td>14145</td>\n",
       "      <td>...</td>\n",
       "      <td>14865</td>\n",
       "      <td>13860</td>\n",
       "      <td>14865</td>\n",
       "      <td>14635</td>\n",
       "      <td>4786</td>\n",
       "      <td>7475</td>\n",
       "      <td>3509</td>\n",
       "      <td>9533</td>\n",
       "      <td>7474</td>\n",
       "      <td>14865</td>\n",
       "    </tr>\n",
       "  </tbody>\n",
       "</table>\n",
       "<p>4 rows × 21 columns</p>\n",
       "</div>"
      ],
      "text/plain": [
       "       loan_limit Gender approv_in_adv loan_type loan_purpose  \\\n",
       "count       14534  14867         14787     14867        14853   \n",
       "unique          2      4             2         3            4   \n",
       "top            cf   Male         nopre     type1           p3   \n",
       "freq        13583   4323         12522     11360         5633   \n",
       "\n",
       "       Credit_Worthiness open_credit business_or_commercial Neg_ammortization  \\\n",
       "count              14867       14867                  14867             14855   \n",
       "unique                 2           2                      2                 2   \n",
       "top                   l1        nopc                  nob/c           not_neg   \n",
       "freq               14274       14817                  12760             13378   \n",
       "\n",
       "       interest_only  ... construction_type occupancy_type Secured_by  \\\n",
       "count          14867  ...             14867          14867      14867   \n",
       "unique             2  ...                 2              3          2   \n",
       "top          not_int  ...                sb             pr       home   \n",
       "freq           14145  ...             14865          13860      14865   \n",
       "\n",
       "       total_units credit_type co-applicant_credit_type    age  \\\n",
       "count        14867       14867                    14867  14842   \n",
       "unique           4           4                        2      7   \n",
       "top             1U         CIB                      CIB  45-54   \n",
       "freq         14635        4786                     7475   3509   \n",
       "\n",
       "       submission_of_application Region Security_Type  \n",
       "count                      14842  14867         14867  \n",
       "unique                         2      4             2  \n",
       "top                      to_inst  North        direct  \n",
       "freq                        9533   7474         14865  \n",
       "\n",
       "[4 rows x 21 columns]"
      ]
     },
     "execution_count": 6,
     "metadata": {},
     "output_type": "execute_result"
    }
   ],
   "source": [
    "df.describe(include=['O'])"
   ]
  },
  {
   "cell_type": "code",
   "execution_count": 7,
   "id": "1e43393c",
   "metadata": {},
   "outputs": [
    {
     "data": {
      "text/plain": [
       "2"
      ]
     },
     "execution_count": 7,
     "metadata": {},
     "output_type": "execute_result"
    }
   ],
   "source": [
    "df.Status.nunique()"
   ]
  },
  {
   "cell_type": "code",
   "execution_count": 8,
   "id": "3845fb95",
   "metadata": {},
   "outputs": [
    {
     "data": {
      "text/plain": [
       "array([0, 1], dtype=int64)"
      ]
     },
     "execution_count": 8,
     "metadata": {},
     "output_type": "execute_result"
    }
   ],
   "source": [
    "df.Status.unique()"
   ]
  },
  {
   "cell_type": "code",
   "execution_count": 9,
   "id": "815dbcf4",
   "metadata": {},
   "outputs": [
    {
     "data": {
      "text/plain": [
       "0    11203\n",
       "1     3664\n",
       "Name: Status, dtype: int64"
      ]
     },
     "execution_count": 9,
     "metadata": {},
     "output_type": "execute_result"
    }
   ],
   "source": [
    "df.Status.value_counts()"
   ]
  },
  {
   "cell_type": "markdown",
   "id": "cbf02304",
   "metadata": {},
   "source": [
    "##### This is an imbalance dataset: this means that in building a model with this dataset, the probability of classifying any datapoint as status 0 is approx 76% while the probabilty of classifying a data as 1 is 24%. Hence the classifier will always be bias towards status 0.\n",
    "Hence the accuracy of the classifier will be maximal when predicting statuses of 0\n",
    "Before deciding on a way of handling this, lets define the goal of this classifier.\n",
    "##### Goal: The classifier should accurately predict a loan decision or status given the information of the customer.\n",
    " - 1. Since the goal is not to get a classifier with very high accuracy but rather a model with good quality prediction (precision) and good quantity prediction (recall). It make sense to balance the dataset.\n",
    " - 2.  Another alternative will be to use a tree base classifier because its usually robust to imbalance data\n",
    " - 3. SInce this dataset is a high dimensional data, upsampling the class 1 will increase the volumne and reduce problem resulting from the curse of dimensionality.\n",
    " - 4. Downsampling the class 0 will also improve performance if we decide to reduce the dimensions of the data"
   ]
  },
  {
   "cell_type": "code",
   "execution_count": 10,
   "id": "346a0a6e",
   "metadata": {},
   "outputs": [],
   "source": [
    "# place the target variable 'status' as the last column\n",
    "df = df[[col for col in df.columns if col not in ['Status']] + ['Status']]"
   ]
  },
  {
   "cell_type": "markdown",
   "id": "9dbc24ba",
   "metadata": {},
   "source": [
    "### Finding Missing Values"
   ]
  },
  {
   "cell_type": "code",
   "execution_count": 11,
   "id": "38bd63a0",
   "metadata": {},
   "outputs": [],
   "source": [
    "# numerical columns\n",
    "numcol = df.select_dtypes(include=['float64','int64'])"
   ]
  },
  {
   "cell_type": "code",
   "execution_count": 12,
   "id": "6dc864e9",
   "metadata": {},
   "outputs": [
    {
     "data": {
      "text/plain": [
       "Index(['Unnamed: 0', 'ID', 'year', 'loan_amount', 'rate_of_interest',\n",
       "       'Interest_rate_spread', 'Upfront_charges', 'term', 'property_value',\n",
       "       'income', 'Credit_Score', 'LTV', 'dtir1', 'Status'],\n",
       "      dtype='object')"
      ]
     },
     "execution_count": 12,
     "metadata": {},
     "output_type": "execute_result"
    }
   ],
   "source": [
    "numcol.columns"
   ]
  },
  {
   "cell_type": "code",
   "execution_count": 13,
   "id": "e97548e6",
   "metadata": {},
   "outputs": [
    {
     "data": {
      "text/plain": [
       "Index(['loan_limit', 'Gender', 'approv_in_adv', 'loan_type', 'loan_purpose',\n",
       "       'Credit_Worthiness', 'open_credit', 'business_or_commercial',\n",
       "       'Neg_ammortization', 'interest_only', 'lump_sum_payment',\n",
       "       'construction_type', 'occupancy_type', 'Secured_by', 'total_units',\n",
       "       'credit_type', 'co-applicant_credit_type', 'age',\n",
       "       'submission_of_application', 'Region', 'Security_Type'],\n",
       "      dtype='object')"
      ]
     },
     "execution_count": 13,
     "metadata": {},
     "output_type": "execute_result"
    }
   ],
   "source": [
    "# categorical columns\n",
    "catcol = df.select_dtypes(include=['object'])\n",
    "catcol.columns"
   ]
  },
  {
   "cell_type": "code",
   "execution_count": 14,
   "id": "be118dc7",
   "metadata": {},
   "outputs": [
    {
     "data": {
      "text/html": [
       "<div>\n",
       "<style scoped>\n",
       "    .dataframe tbody tr th:only-of-type {\n",
       "        vertical-align: middle;\n",
       "    }\n",
       "\n",
       "    .dataframe tbody tr th {\n",
       "        vertical-align: top;\n",
       "    }\n",
       "\n",
       "    .dataframe thead th {\n",
       "        text-align: right;\n",
       "    }\n",
       "</style>\n",
       "<table border=\"1\" class=\"dataframe\">\n",
       "  <thead>\n",
       "    <tr style=\"text-align: right;\">\n",
       "      <th></th>\n",
       "      <th>Unnamed: 0</th>\n",
       "      <th>ID</th>\n",
       "      <th>year</th>\n",
       "      <th>loan_amount</th>\n",
       "      <th>rate_of_interest</th>\n",
       "      <th>Interest_rate_spread</th>\n",
       "      <th>Upfront_charges</th>\n",
       "      <th>term</th>\n",
       "      <th>property_value</th>\n",
       "      <th>income</th>\n",
       "      <th>Credit_Score</th>\n",
       "      <th>LTV</th>\n",
       "      <th>dtir1</th>\n",
       "      <th>Status</th>\n",
       "    </tr>\n",
       "  </thead>\n",
       "  <tbody>\n",
       "    <tr>\n",
       "      <th>count</th>\n",
       "      <td>14867.000000</td>\n",
       "      <td>14867.000000</td>\n",
       "      <td>14867.0</td>\n",
       "      <td>1.486700e+04</td>\n",
       "      <td>11228.000000</td>\n",
       "      <td>11203.000000</td>\n",
       "      <td>10919.000000</td>\n",
       "      <td>14860.000000</td>\n",
       "      <td>1.336500e+04</td>\n",
       "      <td>13950.000000</td>\n",
       "      <td>14867.000000</td>\n",
       "      <td>13365.000000</td>\n",
       "      <td>12459.000000</td>\n",
       "      <td>14867.000000</td>\n",
       "    </tr>\n",
       "    <tr>\n",
       "      <th>mean</th>\n",
       "      <td>74187.851483</td>\n",
       "      <td>99077.851483</td>\n",
       "      <td>2019.0</td>\n",
       "      <td>3.321353e+05</td>\n",
       "      <td>4.049423</td>\n",
       "      <td>0.443051</td>\n",
       "      <td>3204.867910</td>\n",
       "      <td>335.441992</td>\n",
       "      <td>4.984886e+05</td>\n",
       "      <td>6910.055914</td>\n",
       "      <td>698.705186</td>\n",
       "      <td>73.145668</td>\n",
       "      <td>37.796452</td>\n",
       "      <td>0.246452</td>\n",
       "    </tr>\n",
       "    <tr>\n",
       "      <th>std</th>\n",
       "      <td>43007.014663</td>\n",
       "      <td>43007.014663</td>\n",
       "      <td>0.0</td>\n",
       "      <td>1.818893e+05</td>\n",
       "      <td>0.560483</td>\n",
       "      <td>0.512912</td>\n",
       "      <td>3245.373397</td>\n",
       "      <td>57.963573</td>\n",
       "      <td>3.518242e+05</td>\n",
       "      <td>6099.250080</td>\n",
       "      <td>115.297767</td>\n",
       "      <td>69.693239</td>\n",
       "      <td>10.477873</td>\n",
       "      <td>0.430959</td>\n",
       "    </tr>\n",
       "    <tr>\n",
       "      <th>min</th>\n",
       "      <td>2.000000</td>\n",
       "      <td>24892.000000</td>\n",
       "      <td>2019.0</td>\n",
       "      <td>2.650000e+04</td>\n",
       "      <td>2.250000</td>\n",
       "      <td>-1.046200</td>\n",
       "      <td>0.000000</td>\n",
       "      <td>96.000000</td>\n",
       "      <td>8.000000e+03</td>\n",
       "      <td>0.000000</td>\n",
       "      <td>500.000000</td>\n",
       "      <td>3.125000</td>\n",
       "      <td>5.000000</td>\n",
       "      <td>0.000000</td>\n",
       "    </tr>\n",
       "    <tr>\n",
       "      <th>25%</th>\n",
       "      <td>36661.000000</td>\n",
       "      <td>61551.000000</td>\n",
       "      <td>2019.0</td>\n",
       "      <td>1.965000e+05</td>\n",
       "      <td>3.625000</td>\n",
       "      <td>0.073650</td>\n",
       "      <td>492.040000</td>\n",
       "      <td>360.000000</td>\n",
       "      <td>2.680000e+05</td>\n",
       "      <td>3720.000000</td>\n",
       "      <td>600.000000</td>\n",
       "      <td>60.658915</td>\n",
       "      <td>31.000000</td>\n",
       "      <td>0.000000</td>\n",
       "    </tr>\n",
       "    <tr>\n",
       "      <th>50%</th>\n",
       "      <td>74039.000000</td>\n",
       "      <td>98929.000000</td>\n",
       "      <td>2019.0</td>\n",
       "      <td>2.965000e+05</td>\n",
       "      <td>3.990000</td>\n",
       "      <td>0.391100</td>\n",
       "      <td>2552.500000</td>\n",
       "      <td>360.000000</td>\n",
       "      <td>4.180000e+05</td>\n",
       "      <td>5760.000000</td>\n",
       "      <td>697.000000</td>\n",
       "      <td>75.173611</td>\n",
       "      <td>39.000000</td>\n",
       "      <td>0.000000</td>\n",
       "    </tr>\n",
       "    <tr>\n",
       "      <th>75%</th>\n",
       "      <td>111584.500000</td>\n",
       "      <td>136474.500000</td>\n",
       "      <td>2019.0</td>\n",
       "      <td>4.365000e+05</td>\n",
       "      <td>4.490000</td>\n",
       "      <td>0.778600</td>\n",
       "      <td>4865.000000</td>\n",
       "      <td>360.000000</td>\n",
       "      <td>6.280000e+05</td>\n",
       "      <td>8460.000000</td>\n",
       "      <td>799.500000</td>\n",
       "      <td>86.073825</td>\n",
       "      <td>45.000000</td>\n",
       "      <td>0.000000</td>\n",
       "    </tr>\n",
       "    <tr>\n",
       "      <th>max</th>\n",
       "      <td>148661.000000</td>\n",
       "      <td>173551.000000</td>\n",
       "      <td>2019.0</td>\n",
       "      <td>3.006500e+06</td>\n",
       "      <td>6.240000</td>\n",
       "      <td>1.991500</td>\n",
       "      <td>29015.490000</td>\n",
       "      <td>360.000000</td>\n",
       "      <td>8.508000e+06</td>\n",
       "      <td>335880.000000</td>\n",
       "      <td>900.000000</td>\n",
       "      <td>7831.250000</td>\n",
       "      <td>61.000000</td>\n",
       "      <td>1.000000</td>\n",
       "    </tr>\n",
       "  </tbody>\n",
       "</table>\n",
       "</div>"
      ],
      "text/plain": [
       "          Unnamed: 0             ID     year   loan_amount  rate_of_interest  \\\n",
       "count   14867.000000   14867.000000  14867.0  1.486700e+04      11228.000000   \n",
       "mean    74187.851483   99077.851483   2019.0  3.321353e+05          4.049423   \n",
       "std     43007.014663   43007.014663      0.0  1.818893e+05          0.560483   \n",
       "min         2.000000   24892.000000   2019.0  2.650000e+04          2.250000   \n",
       "25%     36661.000000   61551.000000   2019.0  1.965000e+05          3.625000   \n",
       "50%     74039.000000   98929.000000   2019.0  2.965000e+05          3.990000   \n",
       "75%    111584.500000  136474.500000   2019.0  4.365000e+05          4.490000   \n",
       "max    148661.000000  173551.000000   2019.0  3.006500e+06          6.240000   \n",
       "\n",
       "       Interest_rate_spread  Upfront_charges          term  property_value  \\\n",
       "count          11203.000000     10919.000000  14860.000000    1.336500e+04   \n",
       "mean               0.443051      3204.867910    335.441992    4.984886e+05   \n",
       "std                0.512912      3245.373397     57.963573    3.518242e+05   \n",
       "min               -1.046200         0.000000     96.000000    8.000000e+03   \n",
       "25%                0.073650       492.040000    360.000000    2.680000e+05   \n",
       "50%                0.391100      2552.500000    360.000000    4.180000e+05   \n",
       "75%                0.778600      4865.000000    360.000000    6.280000e+05   \n",
       "max                1.991500     29015.490000    360.000000    8.508000e+06   \n",
       "\n",
       "              income  Credit_Score           LTV         dtir1        Status  \n",
       "count   13950.000000  14867.000000  13365.000000  12459.000000  14867.000000  \n",
       "mean     6910.055914    698.705186     73.145668     37.796452      0.246452  \n",
       "std      6099.250080    115.297767     69.693239     10.477873      0.430959  \n",
       "min         0.000000    500.000000      3.125000      5.000000      0.000000  \n",
       "25%      3720.000000    600.000000     60.658915     31.000000      0.000000  \n",
       "50%      5760.000000    697.000000     75.173611     39.000000      0.000000  \n",
       "75%      8460.000000    799.500000     86.073825     45.000000      0.000000  \n",
       "max    335880.000000    900.000000   7831.250000     61.000000      1.000000  "
      ]
     },
     "execution_count": 14,
     "metadata": {},
     "output_type": "execute_result"
    }
   ],
   "source": [
    "numcol.describe()"
   ]
  },
  {
   "cell_type": "code",
   "execution_count": 15,
   "id": "7c92d428",
   "metadata": {},
   "outputs": [
    {
     "data": {
      "text/plain": [
       "Unnamed: 0                 0\n",
       "ID                         0\n",
       "year                       0\n",
       "loan_amount                0\n",
       "rate_of_interest        3639\n",
       "Interest_rate_spread    3664\n",
       "Upfront_charges         3948\n",
       "term                       7\n",
       "property_value          1502\n",
       "income                   917\n",
       "Credit_Score               0\n",
       "LTV                     1502\n",
       "dtir1                   2408\n",
       "Status                     0\n",
       "dtype: int64"
      ]
     },
     "execution_count": 15,
     "metadata": {},
     "output_type": "execute_result"
    }
   ],
   "source": [
    "# null values count\n",
    "numcol.isnull().sum()"
   ]
  },
  {
   "cell_type": "code",
   "execution_count": 16,
   "id": "93d8ff99",
   "metadata": {},
   "outputs": [
    {
     "data": {
      "text/html": [
       "<div>\n",
       "<style scoped>\n",
       "    .dataframe tbody tr th:only-of-type {\n",
       "        vertical-align: middle;\n",
       "    }\n",
       "\n",
       "    .dataframe tbody tr th {\n",
       "        vertical-align: top;\n",
       "    }\n",
       "\n",
       "    .dataframe thead th {\n",
       "        text-align: right;\n",
       "    }\n",
       "</style>\n",
       "<table border=\"1\" class=\"dataframe\">\n",
       "  <thead>\n",
       "    <tr style=\"text-align: right;\">\n",
       "      <th></th>\n",
       "      <th>loan_limit</th>\n",
       "      <th>Gender</th>\n",
       "      <th>approv_in_adv</th>\n",
       "      <th>loan_type</th>\n",
       "      <th>loan_purpose</th>\n",
       "      <th>Credit_Worthiness</th>\n",
       "      <th>open_credit</th>\n",
       "      <th>business_or_commercial</th>\n",
       "      <th>Neg_ammortization</th>\n",
       "      <th>interest_only</th>\n",
       "      <th>...</th>\n",
       "      <th>construction_type</th>\n",
       "      <th>occupancy_type</th>\n",
       "      <th>Secured_by</th>\n",
       "      <th>total_units</th>\n",
       "      <th>credit_type</th>\n",
       "      <th>co-applicant_credit_type</th>\n",
       "      <th>age</th>\n",
       "      <th>submission_of_application</th>\n",
       "      <th>Region</th>\n",
       "      <th>Security_Type</th>\n",
       "    </tr>\n",
       "  </thead>\n",
       "  <tbody>\n",
       "    <tr>\n",
       "      <th>count</th>\n",
       "      <td>14534</td>\n",
       "      <td>14867</td>\n",
       "      <td>14787</td>\n",
       "      <td>14867</td>\n",
       "      <td>14853</td>\n",
       "      <td>14867</td>\n",
       "      <td>14867</td>\n",
       "      <td>14867</td>\n",
       "      <td>14855</td>\n",
       "      <td>14867</td>\n",
       "      <td>...</td>\n",
       "      <td>14867</td>\n",
       "      <td>14867</td>\n",
       "      <td>14867</td>\n",
       "      <td>14867</td>\n",
       "      <td>14867</td>\n",
       "      <td>14867</td>\n",
       "      <td>14842</td>\n",
       "      <td>14842</td>\n",
       "      <td>14867</td>\n",
       "      <td>14867</td>\n",
       "    </tr>\n",
       "    <tr>\n",
       "      <th>unique</th>\n",
       "      <td>2</td>\n",
       "      <td>4</td>\n",
       "      <td>2</td>\n",
       "      <td>3</td>\n",
       "      <td>4</td>\n",
       "      <td>2</td>\n",
       "      <td>2</td>\n",
       "      <td>2</td>\n",
       "      <td>2</td>\n",
       "      <td>2</td>\n",
       "      <td>...</td>\n",
       "      <td>2</td>\n",
       "      <td>3</td>\n",
       "      <td>2</td>\n",
       "      <td>4</td>\n",
       "      <td>4</td>\n",
       "      <td>2</td>\n",
       "      <td>7</td>\n",
       "      <td>2</td>\n",
       "      <td>4</td>\n",
       "      <td>2</td>\n",
       "    </tr>\n",
       "    <tr>\n",
       "      <th>top</th>\n",
       "      <td>cf</td>\n",
       "      <td>Male</td>\n",
       "      <td>nopre</td>\n",
       "      <td>type1</td>\n",
       "      <td>p3</td>\n",
       "      <td>l1</td>\n",
       "      <td>nopc</td>\n",
       "      <td>nob/c</td>\n",
       "      <td>not_neg</td>\n",
       "      <td>not_int</td>\n",
       "      <td>...</td>\n",
       "      <td>sb</td>\n",
       "      <td>pr</td>\n",
       "      <td>home</td>\n",
       "      <td>1U</td>\n",
       "      <td>CIB</td>\n",
       "      <td>CIB</td>\n",
       "      <td>45-54</td>\n",
       "      <td>to_inst</td>\n",
       "      <td>North</td>\n",
       "      <td>direct</td>\n",
       "    </tr>\n",
       "    <tr>\n",
       "      <th>freq</th>\n",
       "      <td>13583</td>\n",
       "      <td>4323</td>\n",
       "      <td>12522</td>\n",
       "      <td>11360</td>\n",
       "      <td>5633</td>\n",
       "      <td>14274</td>\n",
       "      <td>14817</td>\n",
       "      <td>12760</td>\n",
       "      <td>13378</td>\n",
       "      <td>14145</td>\n",
       "      <td>...</td>\n",
       "      <td>14865</td>\n",
       "      <td>13860</td>\n",
       "      <td>14865</td>\n",
       "      <td>14635</td>\n",
       "      <td>4786</td>\n",
       "      <td>7475</td>\n",
       "      <td>3509</td>\n",
       "      <td>9533</td>\n",
       "      <td>7474</td>\n",
       "      <td>14865</td>\n",
       "    </tr>\n",
       "  </tbody>\n",
       "</table>\n",
       "<p>4 rows × 21 columns</p>\n",
       "</div>"
      ],
      "text/plain": [
       "       loan_limit Gender approv_in_adv loan_type loan_purpose  \\\n",
       "count       14534  14867         14787     14867        14853   \n",
       "unique          2      4             2         3            4   \n",
       "top            cf   Male         nopre     type1           p3   \n",
       "freq        13583   4323         12522     11360         5633   \n",
       "\n",
       "       Credit_Worthiness open_credit business_or_commercial Neg_ammortization  \\\n",
       "count              14867       14867                  14867             14855   \n",
       "unique                 2           2                      2                 2   \n",
       "top                   l1        nopc                  nob/c           not_neg   \n",
       "freq               14274       14817                  12760             13378   \n",
       "\n",
       "       interest_only  ... construction_type occupancy_type Secured_by  \\\n",
       "count          14867  ...             14867          14867      14867   \n",
       "unique             2  ...                 2              3          2   \n",
       "top          not_int  ...                sb             pr       home   \n",
       "freq           14145  ...             14865          13860      14865   \n",
       "\n",
       "       total_units credit_type co-applicant_credit_type    age  \\\n",
       "count        14867       14867                    14867  14842   \n",
       "unique           4           4                        2      7   \n",
       "top             1U         CIB                      CIB  45-54   \n",
       "freq         14635        4786                     7475   3509   \n",
       "\n",
       "       submission_of_application Region Security_Type  \n",
       "count                      14842  14867         14867  \n",
       "unique                         2      4             2  \n",
       "top                      to_inst  North        direct  \n",
       "freq                        9533   7474         14865  \n",
       "\n",
       "[4 rows x 21 columns]"
      ]
     },
     "execution_count": 16,
     "metadata": {},
     "output_type": "execute_result"
    }
   ],
   "source": [
    "catcol.describe()"
   ]
  },
  {
   "cell_type": "code",
   "execution_count": 17,
   "id": "4d816c77",
   "metadata": {},
   "outputs": [
    {
     "data": {
      "text/plain": [
       "loan_limit                   333\n",
       "Gender                         0\n",
       "approv_in_adv                 80\n",
       "loan_type                      0\n",
       "loan_purpose                  14\n",
       "Credit_Worthiness              0\n",
       "open_credit                    0\n",
       "business_or_commercial         0\n",
       "Neg_ammortization             12\n",
       "interest_only                  0\n",
       "lump_sum_payment               0\n",
       "construction_type              0\n",
       "occupancy_type                 0\n",
       "Secured_by                     0\n",
       "total_units                    0\n",
       "credit_type                    0\n",
       "co-applicant_credit_type       0\n",
       "age                           25\n",
       "submission_of_application     25\n",
       "Region                         0\n",
       "Security_Type                  0\n",
       "dtype: int64"
      ]
     },
     "execution_count": 17,
     "metadata": {},
     "output_type": "execute_result"
    }
   ],
   "source": [
    "# null values count\n",
    "catcol.isnull().sum()"
   ]
  },
  {
   "cell_type": "markdown",
   "id": "9d524faf",
   "metadata": {},
   "source": [
    "### Handling Missing Values:\n",
    " - 1. Numerical columns with missing values: 'rate_of_interest', 'Interest_rate_spread', 'Upfront_charges', 'term''property_value', 'income', 'LTV', 'dtir1'\n",
    " - 2. Categorical columns with missing values: loan_limit, approv_in_adv, loan_purpose, Neg_ammortization, age,submission_of_application"
   ]
  },
  {
   "cell_type": "markdown",
   "id": "4e50b94d",
   "metadata": {},
   "source": [
    "###### Rate of Interest"
   ]
  },
  {
   "cell_type": "code",
   "execution_count": 18,
   "id": "280ce49d",
   "metadata": {},
   "outputs": [
    {
     "data": {
      "text/html": [
       "<div>\n",
       "<style scoped>\n",
       "    .dataframe tbody tr th:only-of-type {\n",
       "        vertical-align: middle;\n",
       "    }\n",
       "\n",
       "    .dataframe tbody tr th {\n",
       "        vertical-align: top;\n",
       "    }\n",
       "\n",
       "    .dataframe thead th {\n",
       "        text-align: right;\n",
       "    }\n",
       "</style>\n",
       "<table border=\"1\" class=\"dataframe\">\n",
       "  <thead>\n",
       "    <tr style=\"text-align: right;\">\n",
       "      <th></th>\n",
       "      <th>rate_of_interest</th>\n",
       "    </tr>\n",
       "    <tr>\n",
       "      <th>Status</th>\n",
       "      <th></th>\n",
       "    </tr>\n",
       "  </thead>\n",
       "  <tbody>\n",
       "    <tr>\n",
       "      <th>0</th>\n",
       "      <td>11203</td>\n",
       "    </tr>\n",
       "    <tr>\n",
       "      <th>1</th>\n",
       "      <td>25</td>\n",
       "    </tr>\n",
       "  </tbody>\n",
       "</table>\n",
       "</div>"
      ],
      "text/plain": [
       "        rate_of_interest\n",
       "Status                  \n",
       "0                  11203\n",
       "1                     25"
      ]
     },
     "execution_count": 18,
     "metadata": {},
     "output_type": "execute_result"
    }
   ],
   "source": [
    "# rate of interest\n",
    "df[['rate_of_interest', 'Status']].groupby('Status').count()"
   ]
  },
  {
   "cell_type": "code",
   "execution_count": 19,
   "id": "00cf3ef5",
   "metadata": {},
   "outputs": [
    {
     "data": {
      "text/plain": [
       "1    3639\n",
       "Name: Status, dtype: int64"
      ]
     },
     "execution_count": 19,
     "metadata": {},
     "output_type": "execute_result"
    }
   ],
   "source": [
    "df.loc[df['rate_of_interest'].isnull()]['Status'].value_counts()"
   ]
  },
  {
   "cell_type": "markdown",
   "id": "ad6c3833",
   "metadata": {},
   "source": [
    "##### all the missing values are from class 1. Lets see the range of rate_of_interest with status 1"
   ]
  },
  {
   "cell_type": "code",
   "execution_count": 20,
   "id": "17e4d69e",
   "metadata": {},
   "outputs": [
    {
     "data": {
      "text/plain": [
       "11255    3.875\n",
       "11448    3.990\n",
       "11537    4.125\n",
       "12099    4.250\n",
       "12199    3.990\n",
       "12402    4.375\n",
       "12438    4.490\n",
       "12466    4.375\n",
       "12570    4.250\n",
       "12688    4.990\n",
       "12772    3.750\n",
       "12876    3.875\n",
       "13292    3.750\n",
       "13310    3.875\n",
       "13543    4.125\n",
       "13610    4.375\n",
       "13621    4.375\n",
       "13839    4.990\n",
       "14116    4.990\n",
       "14242    3.750\n",
       "14428    3.750\n",
       "14569    3.750\n",
       "14574    3.875\n",
       "14617    4.990\n",
       "14646    3.750\n",
       "Name: rate_of_interest, dtype: float64"
      ]
     },
     "execution_count": 20,
     "metadata": {},
     "output_type": "execute_result"
    }
   ],
   "source": [
    "#f = df.loc[df['Status']==1]\n",
    "df[df['rate_of_interest'].notnull()].loc[df['Status']==1]['rate_of_interest']"
   ]
  },
  {
   "cell_type": "markdown",
   "id": "be72bb50",
   "metadata": {},
   "source": [
    "#####  This column has about 24% missing values, all of which are from a single category 1. Removing these rows will further make the dataset imbalance. We can either remove this column entirely from the model or extrapolate to get the missing values. \n",
    "##### Extrapolating values: It can also be observed from the available data, the interest rate for status 1 lies between 3.7 & 4.9, also these values are dispersed between the 25 & 75 percentile. We will fill the missing values with the mean value from status 1."
   ]
  },
  {
   "cell_type": "code",
   "execution_count": 21,
   "id": "94e32978",
   "metadata": {},
   "outputs": [
    {
     "name": "stderr",
     "output_type": "stream",
     "text": [
      "C:\\Users\\prisc\\anaconda3\\lib\\site-packages\\pandas\\core\\generic.py:6392: SettingWithCopyWarning: \n",
      "A value is trying to be set on a copy of a slice from a DataFrame\n",
      "\n",
      "See the caveats in the documentation: https://pandas.pydata.org/pandas-docs/stable/user_guide/indexing.html#returning-a-view-versus-a-copy\n",
      "  return self._update_inplace(result)\n"
     ]
    }
   ],
   "source": [
    "status1_roi = df[df['rate_of_interest'].notnull()].loc[df['Status']==1]['rate_of_interest'].mean()\n",
    "numcol['rate_of_interest'].fillna(value=status1_roi, inplace=True)"
   ]
  },
  {
   "cell_type": "code",
   "execution_count": 22,
   "id": "f683c5a3",
   "metadata": {},
   "outputs": [
    {
     "data": {
      "text/plain": [
       "4.1872"
      ]
     },
     "execution_count": 22,
     "metadata": {},
     "output_type": "execute_result"
    }
   ],
   "source": [
    "status1_roi"
   ]
  },
  {
   "cell_type": "markdown",
   "id": "43267de5",
   "metadata": {},
   "source": [
    "###### Interest_rate_spread"
   ]
  },
  {
   "cell_type": "code",
   "execution_count": 23,
   "id": "6c57c6a8",
   "metadata": {},
   "outputs": [
    {
     "data": {
      "text/html": [
       "<div>\n",
       "<style scoped>\n",
       "    .dataframe tbody tr th:only-of-type {\n",
       "        vertical-align: middle;\n",
       "    }\n",
       "\n",
       "    .dataframe tbody tr th {\n",
       "        vertical-align: top;\n",
       "    }\n",
       "\n",
       "    .dataframe thead th {\n",
       "        text-align: right;\n",
       "    }\n",
       "</style>\n",
       "<table border=\"1\" class=\"dataframe\">\n",
       "  <thead>\n",
       "    <tr style=\"text-align: right;\">\n",
       "      <th></th>\n",
       "      <th>Interest_rate_spread</th>\n",
       "    </tr>\n",
       "    <tr>\n",
       "      <th>Status</th>\n",
       "      <th></th>\n",
       "    </tr>\n",
       "  </thead>\n",
       "  <tbody>\n",
       "    <tr>\n",
       "      <th>0</th>\n",
       "      <td>11203</td>\n",
       "    </tr>\n",
       "    <tr>\n",
       "      <th>1</th>\n",
       "      <td>0</td>\n",
       "    </tr>\n",
       "  </tbody>\n",
       "</table>\n",
       "</div>"
      ],
      "text/plain": [
       "        Interest_rate_spread\n",
       "Status                      \n",
       "0                      11203\n",
       "1                          0"
      ]
     },
     "execution_count": 23,
     "metadata": {},
     "output_type": "execute_result"
    }
   ],
   "source": [
    "df[['Interest_rate_spread', 'Status']].groupby('Status').count()"
   ]
  },
  {
   "cell_type": "code",
   "execution_count": null,
   "id": "fa9ead31",
   "metadata": {},
   "outputs": [],
   "source": []
  },
  {
   "cell_type": "markdown",
   "id": "ba99e2b7",
   "metadata": {},
   "source": [
    "###### The Interest_rate_spread have over 25% missing values all of which are status 1. And there are no data to infer what it's possible value could be.  We can choose to give all the missing value a unique value, but this could introduce some bias in the model. Hence we will remove this column from the model."
   ]
  },
  {
   "cell_type": "code",
   "execution_count": 24,
   "id": "89a513d1",
   "metadata": {},
   "outputs": [
    {
     "name": "stderr",
     "output_type": "stream",
     "text": [
      "C:\\Users\\prisc\\anaconda3\\lib\\site-packages\\pandas\\core\\frame.py:4906: SettingWithCopyWarning: \n",
      "A value is trying to be set on a copy of a slice from a DataFrame\n",
      "\n",
      "See the caveats in the documentation: https://pandas.pydata.org/pandas-docs/stable/user_guide/indexing.html#returning-a-view-versus-a-copy\n",
      "  return super().drop(\n"
     ]
    }
   ],
   "source": [
    "numcol.drop('Interest_rate_spread', axis=1, inplace=True)"
   ]
  },
  {
   "cell_type": "markdown",
   "id": "013c23eb",
   "metadata": {},
   "source": [
    "###### Upfront_charges"
   ]
  },
  {
   "cell_type": "code",
   "execution_count": 25,
   "id": "fa9a3e8f",
   "metadata": {},
   "outputs": [
    {
     "data": {
      "text/html": [
       "<div>\n",
       "<style scoped>\n",
       "    .dataframe tbody tr th:only-of-type {\n",
       "        vertical-align: middle;\n",
       "    }\n",
       "\n",
       "    .dataframe tbody tr th {\n",
       "        vertical-align: top;\n",
       "    }\n",
       "\n",
       "    .dataframe thead th {\n",
       "        text-align: right;\n",
       "    }\n",
       "</style>\n",
       "<table border=\"1\" class=\"dataframe\">\n",
       "  <thead>\n",
       "    <tr style=\"text-align: right;\">\n",
       "      <th></th>\n",
       "      <th>Upfront_charges</th>\n",
       "    </tr>\n",
       "    <tr>\n",
       "      <th>Status</th>\n",
       "      <th></th>\n",
       "    </tr>\n",
       "  </thead>\n",
       "  <tbody>\n",
       "    <tr>\n",
       "      <th>0</th>\n",
       "      <td>10904</td>\n",
       "    </tr>\n",
       "    <tr>\n",
       "      <th>1</th>\n",
       "      <td>15</td>\n",
       "    </tr>\n",
       "  </tbody>\n",
       "</table>\n",
       "</div>"
      ],
      "text/plain": [
       "        Upfront_charges\n",
       "Status                 \n",
       "0                 10904\n",
       "1                    15"
      ]
     },
     "execution_count": 25,
     "metadata": {},
     "output_type": "execute_result"
    }
   ],
   "source": [
    "df[['Upfront_charges', 'Status']].groupby('Status').count()"
   ]
  },
  {
   "cell_type": "code",
   "execution_count": 26,
   "id": "a0051a90",
   "metadata": {},
   "outputs": [
    {
     "data": {
      "text/plain": [
       "11255       0.00\n",
       "11448     832.08\n",
       "12199       0.00\n",
       "12402    9387.07\n",
       "12438       0.00\n",
       "12466     723.75\n",
       "12688     584.68\n",
       "12772    5612.89\n",
       "12876       0.00\n",
       "13292       0.00\n",
       "13610       0.00\n",
       "13839    2297.98\n",
       "14116     553.85\n",
       "14242       0.00\n",
       "14617       0.00\n",
       "Name: Upfront_charges, dtype: float64"
      ]
     },
     "execution_count": 26,
     "metadata": {},
     "output_type": "execute_result"
    }
   ],
   "source": [
    "df[df['Upfront_charges'].notnull()].loc[df['Status']==1]['Upfront_charges']"
   ]
  },
  {
   "cell_type": "code",
   "execution_count": 27,
   "id": "5d8f4ccc",
   "metadata": {},
   "outputs": [
    {
     "data": {
      "text/plain": [
       "1    3649\n",
       "0     299\n",
       "Name: Status, dtype: int64"
      ]
     },
     "execution_count": 27,
     "metadata": {},
     "output_type": "execute_result"
    }
   ],
   "source": [
    "df.loc[df['Upfront_charges'].isnull()]['Status'].value_counts()"
   ]
  },
  {
   "cell_type": "markdown",
   "id": "f2c77a30",
   "metadata": {},
   "source": [
    "###### 27% of the data is missing, with only 2% from the majority class 0 and >24% from the minority class 1.\n",
    "###### Being that only 2% are missing from the majority class, we could fill these value using the mode from this class. However, it is difficult to infer the best possible value to fill in the other 24% from the class 1 because the data are not evenly spread, with a max of 9387 and a min of 0.\n",
    "###### Hence to avoid introducing some bias, we eliminate this column from the model\n"
   ]
  },
  {
   "cell_type": "code",
   "execution_count": 28,
   "id": "d48b2937",
   "metadata": {},
   "outputs": [
    {
     "name": "stderr",
     "output_type": "stream",
     "text": [
      "C:\\Users\\prisc\\anaconda3\\lib\\site-packages\\pandas\\core\\frame.py:4906: SettingWithCopyWarning: \n",
      "A value is trying to be set on a copy of a slice from a DataFrame\n",
      "\n",
      "See the caveats in the documentation: https://pandas.pydata.org/pandas-docs/stable/user_guide/indexing.html#returning-a-view-versus-a-copy\n",
      "  return super().drop(\n"
     ]
    }
   ],
   "source": [
    "numcol.drop(\"Upfront_charges\", axis=1, inplace=True)"
   ]
  },
  {
   "cell_type": "markdown",
   "id": "39e52d1d",
   "metadata": {},
   "source": [
    "###### Term"
   ]
  },
  {
   "cell_type": "code",
   "execution_count": 29,
   "id": "02285f89",
   "metadata": {},
   "outputs": [
    {
     "data": {
      "text/html": [
       "<div>\n",
       "<style scoped>\n",
       "    .dataframe tbody tr th:only-of-type {\n",
       "        vertical-align: middle;\n",
       "    }\n",
       "\n",
       "    .dataframe tbody tr th {\n",
       "        vertical-align: top;\n",
       "    }\n",
       "\n",
       "    .dataframe thead th {\n",
       "        text-align: right;\n",
       "    }\n",
       "</style>\n",
       "<table border=\"1\" class=\"dataframe\">\n",
       "  <thead>\n",
       "    <tr style=\"text-align: right;\">\n",
       "      <th></th>\n",
       "      <th>term</th>\n",
       "    </tr>\n",
       "    <tr>\n",
       "      <th>Status</th>\n",
       "      <th></th>\n",
       "    </tr>\n",
       "  </thead>\n",
       "  <tbody>\n",
       "    <tr>\n",
       "      <th>0</th>\n",
       "      <td>11198</td>\n",
       "    </tr>\n",
       "    <tr>\n",
       "      <th>1</th>\n",
       "      <td>3662</td>\n",
       "    </tr>\n",
       "  </tbody>\n",
       "</table>\n",
       "</div>"
      ],
      "text/plain": [
       "         term\n",
       "Status       \n",
       "0       11198\n",
       "1        3662"
      ]
     },
     "execution_count": 29,
     "metadata": {},
     "output_type": "execute_result"
    }
   ],
   "source": [
    "df[['term', 'Status']].groupby('Status').count()"
   ]
  },
  {
   "cell_type": "code",
   "execution_count": 30,
   "id": "f89fd5b4",
   "metadata": {},
   "outputs": [
    {
     "data": {
      "text/plain": [
       "0    5\n",
       "1    2\n",
       "Name: Status, dtype: int64"
      ]
     },
     "execution_count": 30,
     "metadata": {},
     "output_type": "execute_result"
    }
   ],
   "source": [
    "df.loc[df['term'].isnull()]['Status'].value_counts()"
   ]
  },
  {
   "cell_type": "code",
   "execution_count": 31,
   "id": "212da6bd",
   "metadata": {},
   "outputs": [
    {
     "data": {
      "text/plain": [
       "334.4270890223921"
      ]
     },
     "execution_count": 31,
     "metadata": {},
     "output_type": "execute_result"
    }
   ],
   "source": [
    "df[df['term'].notnull()].loc[df['Status']==1]['term'].mean()"
   ]
  },
  {
   "cell_type": "code",
   "execution_count": 32,
   "id": "189a0827",
   "metadata": {},
   "outputs": [
    {
     "data": {
      "text/plain": [
       "0    360.0\n",
       "dtype: float64"
      ]
     },
     "execution_count": 32,
     "metadata": {},
     "output_type": "execute_result"
    }
   ],
   "source": [
    "df[df['term'].notnull()].loc[df['Status']==1]['term'].mode()"
   ]
  },
  {
   "cell_type": "code",
   "execution_count": 33,
   "id": "bc27d1f8",
   "metadata": {},
   "outputs": [
    {
     "data": {
      "text/plain": [
       "0    360.0\n",
       "dtype: float64"
      ]
     },
     "execution_count": 33,
     "metadata": {},
     "output_type": "execute_result"
    }
   ],
   "source": [
    "df[df['term'].notnull()].loc[df['Status']==0]['term'].mode()"
   ]
  },
  {
   "cell_type": "markdown",
   "id": "c4d01f39",
   "metadata": {},
   "source": [
    "###### Only 7 rows are missing in this column and its values do not vary by Status. So we fill the missing values using the mode"
   ]
  },
  {
   "cell_type": "code",
   "execution_count": 34,
   "id": "c3ecbeb9",
   "metadata": {},
   "outputs": [
    {
     "name": "stderr",
     "output_type": "stream",
     "text": [
      "C:\\Users\\prisc\\anaconda3\\lib\\site-packages\\pandas\\core\\generic.py:6392: SettingWithCopyWarning: \n",
      "A value is trying to be set on a copy of a slice from a DataFrame\n",
      "\n",
      "See the caveats in the documentation: https://pandas.pydata.org/pandas-docs/stable/user_guide/indexing.html#returning-a-view-versus-a-copy\n",
      "  return self._update_inplace(result)\n"
     ]
    }
   ],
   "source": [
    "term_mode = df[df['term'].notnull()].loc[df['Status']==0]['term'].mode()\n",
    "numcol['term'].fillna(term_mode, inplace=True)"
   ]
  },
  {
   "cell_type": "markdown",
   "id": "e0b78260",
   "metadata": {},
   "source": [
    "###### property_value"
   ]
  },
  {
   "cell_type": "code",
   "execution_count": 35,
   "id": "246f655b",
   "metadata": {},
   "outputs": [
    {
     "data": {
      "text/html": [
       "<div>\n",
       "<style scoped>\n",
       "    .dataframe tbody tr th:only-of-type {\n",
       "        vertical-align: middle;\n",
       "    }\n",
       "\n",
       "    .dataframe tbody tr th {\n",
       "        vertical-align: top;\n",
       "    }\n",
       "\n",
       "    .dataframe thead th {\n",
       "        text-align: right;\n",
       "    }\n",
       "</style>\n",
       "<table border=\"1\" class=\"dataframe\">\n",
       "  <thead>\n",
       "    <tr style=\"text-align: right;\">\n",
       "      <th></th>\n",
       "      <th>property_value</th>\n",
       "    </tr>\n",
       "    <tr>\n",
       "      <th>Status</th>\n",
       "      <th></th>\n",
       "    </tr>\n",
       "  </thead>\n",
       "  <tbody>\n",
       "    <tr>\n",
       "      <th>0</th>\n",
       "      <td>11203</td>\n",
       "    </tr>\n",
       "    <tr>\n",
       "      <th>1</th>\n",
       "      <td>2162</td>\n",
       "    </tr>\n",
       "  </tbody>\n",
       "</table>\n",
       "</div>"
      ],
      "text/plain": [
       "        property_value\n",
       "Status                \n",
       "0                11203\n",
       "1                 2162"
      ]
     },
     "execution_count": 35,
     "metadata": {},
     "output_type": "execute_result"
    }
   ],
   "source": [
    "df[['property_value', 'Status']].groupby('Status').count()"
   ]
  },
  {
   "cell_type": "code",
   "execution_count": 36,
   "id": "650751c1",
   "metadata": {},
   "outputs": [
    {
     "data": {
      "text/plain": [
       "1    1502\n",
       "Name: Status, dtype: int64"
      ]
     },
     "execution_count": 36,
     "metadata": {},
     "output_type": "execute_result"
    }
   ],
   "source": [
    "df.loc[df['property_value'].isnull()]['Status'].value_counts()"
   ]
  },
  {
   "cell_type": "code",
   "execution_count": 37,
   "id": "c817876d",
   "metadata": {},
   "outputs": [
    {
     "data": {
      "text/plain": [
       "0    308000.0\n",
       "dtype: float64"
      ]
     },
     "execution_count": 37,
     "metadata": {},
     "output_type": "execute_result"
    }
   ],
   "source": [
    "df[df['property_value'].notnull()].loc[df['Status']==1]['property_value'].mode()"
   ]
  },
  {
   "cell_type": "code",
   "execution_count": 38,
   "id": "24db2223",
   "metadata": {},
   "outputs": [
    {
     "data": {
      "text/plain": [
       "0    408000.0\n",
       "dtype: float64"
      ]
     },
     "execution_count": 38,
     "metadata": {},
     "output_type": "execute_result"
    }
   ],
   "source": [
    "df[df['property_value'].notnull()].loc[df['Status']==0]['property_value'].mode()"
   ]
  },
  {
   "cell_type": "code",
   "execution_count": 39,
   "id": "9ab55d44",
   "metadata": {},
   "outputs": [
    {
     "data": {
      "text/html": [
       "<div>\n",
       "<style scoped>\n",
       "    .dataframe tbody tr th:only-of-type {\n",
       "        vertical-align: middle;\n",
       "    }\n",
       "\n",
       "    .dataframe tbody tr th {\n",
       "        vertical-align: top;\n",
       "    }\n",
       "\n",
       "    .dataframe thead tr th {\n",
       "        text-align: left;\n",
       "    }\n",
       "\n",
       "    .dataframe thead tr:last-of-type th {\n",
       "        text-align: right;\n",
       "    }\n",
       "</style>\n",
       "<table border=\"1\" class=\"dataframe\">\n",
       "  <thead>\n",
       "    <tr>\n",
       "      <th></th>\n",
       "      <th colspan=\"4\" halign=\"left\">property_value</th>\n",
       "    </tr>\n",
       "    <tr>\n",
       "      <th></th>\n",
       "      <th>mean</th>\n",
       "      <th>max</th>\n",
       "      <th>min</th>\n",
       "      <th>count</th>\n",
       "    </tr>\n",
       "    <tr>\n",
       "      <th>Status</th>\n",
       "      <th></th>\n",
       "      <th></th>\n",
       "      <th></th>\n",
       "      <th></th>\n",
       "    </tr>\n",
       "  </thead>\n",
       "  <tbody>\n",
       "    <tr>\n",
       "      <th>0</th>\n",
       "      <td>507270.731054</td>\n",
       "      <td>8508000.0</td>\n",
       "      <td>8000.0</td>\n",
       "      <td>11203</td>\n",
       "    </tr>\n",
       "    <tr>\n",
       "      <th>1</th>\n",
       "      <td>452981.498612</td>\n",
       "      <td>4058000.0</td>\n",
       "      <td>38000.0</td>\n",
       "      <td>2162</td>\n",
       "    </tr>\n",
       "  </tbody>\n",
       "</table>\n",
       "</div>"
      ],
      "text/plain": [
       "       property_value                           \n",
       "                 mean        max      min  count\n",
       "Status                                          \n",
       "0       507270.731054  8508000.0   8000.0  11203\n",
       "1       452981.498612  4058000.0  38000.0   2162"
      ]
     },
     "execution_count": 39,
     "metadata": {},
     "output_type": "execute_result"
    }
   ],
   "source": [
    "df[['property_value', 'Status']].groupby('Status').agg(['mean','max','min', 'count'])"
   ]
  },
  {
   "cell_type": "markdown",
   "id": "319b4378",
   "metadata": {},
   "source": [
    "###### All the missing value are from status 1 class. There is a wide margin between the mean property value for customers with loan status as 1. But majority of them has property value of 308000. Hence, we fill the missing values using the mode"
   ]
  },
  {
   "cell_type": "code",
   "execution_count": 40,
   "id": "9ca7a018",
   "metadata": {},
   "outputs": [
    {
     "name": "stderr",
     "output_type": "stream",
     "text": [
      "C:\\Users\\prisc\\anaconda3\\lib\\site-packages\\pandas\\core\\generic.py:6392: SettingWithCopyWarning: \n",
      "A value is trying to be set on a copy of a slice from a DataFrame\n",
      "\n",
      "See the caveats in the documentation: https://pandas.pydata.org/pandas-docs/stable/user_guide/indexing.html#returning-a-view-versus-a-copy\n",
      "  return self._update_inplace(result)\n"
     ]
    }
   ],
   "source": [
    "prop_mode = df[df['property_value'].notnull()].loc[df['Status']==1]['property_value'].mode()\n",
    "numcol['property_value'].fillna(prop_mode, inplace=True)"
   ]
  },
  {
   "cell_type": "markdown",
   "id": "879a743c",
   "metadata": {},
   "source": [
    "###### Income"
   ]
  },
  {
   "cell_type": "code",
   "execution_count": 41,
   "id": "715b4ace",
   "metadata": {},
   "outputs": [
    {
     "data": {
      "text/html": [
       "<div>\n",
       "<style scoped>\n",
       "    .dataframe tbody tr th:only-of-type {\n",
       "        vertical-align: middle;\n",
       "    }\n",
       "\n",
       "    .dataframe tbody tr th {\n",
       "        vertical-align: top;\n",
       "    }\n",
       "\n",
       "    .dataframe thead th {\n",
       "        text-align: right;\n",
       "    }\n",
       "</style>\n",
       "<table border=\"1\" class=\"dataframe\">\n",
       "  <thead>\n",
       "    <tr style=\"text-align: right;\">\n",
       "      <th></th>\n",
       "      <th>income</th>\n",
       "    </tr>\n",
       "    <tr>\n",
       "      <th>Status</th>\n",
       "      <th></th>\n",
       "    </tr>\n",
       "  </thead>\n",
       "  <tbody>\n",
       "    <tr>\n",
       "      <th>0</th>\n",
       "      <td>10413</td>\n",
       "    </tr>\n",
       "    <tr>\n",
       "      <th>1</th>\n",
       "      <td>3537</td>\n",
       "    </tr>\n",
       "  </tbody>\n",
       "</table>\n",
       "</div>"
      ],
      "text/plain": [
       "        income\n",
       "Status        \n",
       "0        10413\n",
       "1         3537"
      ]
     },
     "execution_count": 41,
     "metadata": {},
     "output_type": "execute_result"
    }
   ],
   "source": [
    "df[['income', 'Status']].groupby('Status').count()"
   ]
  },
  {
   "cell_type": "code",
   "execution_count": 42,
   "id": "df639b3b",
   "metadata": {},
   "outputs": [
    {
     "data": {
      "text/plain": [
       "0    790\n",
       "1    127\n",
       "Name: Status, dtype: int64"
      ]
     },
     "execution_count": 42,
     "metadata": {},
     "output_type": "execute_result"
    }
   ],
   "source": [
    "df.loc[df['income'].isnull()]['Status'].value_counts()"
   ]
  },
  {
   "cell_type": "code",
   "execution_count": 43,
   "id": "f47d0886",
   "metadata": {},
   "outputs": [
    {
     "data": {
      "text/html": [
       "<div>\n",
       "<style scoped>\n",
       "    .dataframe tbody tr th:only-of-type {\n",
       "        vertical-align: middle;\n",
       "    }\n",
       "\n",
       "    .dataframe tbody tr th {\n",
       "        vertical-align: top;\n",
       "    }\n",
       "\n",
       "    .dataframe thead tr th {\n",
       "        text-align: left;\n",
       "    }\n",
       "\n",
       "    .dataframe thead tr:last-of-type th {\n",
       "        text-align: right;\n",
       "    }\n",
       "</style>\n",
       "<table border=\"1\" class=\"dataframe\">\n",
       "  <thead>\n",
       "    <tr>\n",
       "      <th></th>\n",
       "      <th colspan=\"4\" halign=\"left\">income</th>\n",
       "    </tr>\n",
       "    <tr>\n",
       "      <th></th>\n",
       "      <th>count</th>\n",
       "      <th>mean</th>\n",
       "      <th>max</th>\n",
       "      <th>min</th>\n",
       "    </tr>\n",
       "    <tr>\n",
       "      <th>Status</th>\n",
       "      <th></th>\n",
       "      <th></th>\n",
       "      <th></th>\n",
       "      <th></th>\n",
       "    </tr>\n",
       "  </thead>\n",
       "  <tbody>\n",
       "    <tr>\n",
       "      <th>0</th>\n",
       "      <td>10413</td>\n",
       "      <td>7201.140882</td>\n",
       "      <td>335880.0</td>\n",
       "      <td>0.0</td>\n",
       "    </tr>\n",
       "    <tr>\n",
       "      <th>1</th>\n",
       "      <td>3537</td>\n",
       "      <td>6053.095844</td>\n",
       "      <td>114000.0</td>\n",
       "      <td>0.0</td>\n",
       "    </tr>\n",
       "  </tbody>\n",
       "</table>\n",
       "</div>"
      ],
      "text/plain": [
       "       income                            \n",
       "        count         mean       max  min\n",
       "Status                                   \n",
       "0       10413  7201.140882  335880.0  0.0\n",
       "1        3537  6053.095844  114000.0  0.0"
      ]
     },
     "execution_count": 43,
     "metadata": {},
     "output_type": "execute_result"
    }
   ],
   "source": [
    "df[['income', 'Status']].groupby('Status').agg(['count', 'mean','max','min'])"
   ]
  },
  {
   "cell_type": "code",
   "execution_count": 44,
   "id": "aa45d3b6",
   "metadata": {},
   "outputs": [
    {
     "data": {
      "text/plain": [
       "0    0.0\n",
       "dtype: float64"
      ]
     },
     "execution_count": 44,
     "metadata": {},
     "output_type": "execute_result"
    }
   ],
   "source": [
    "df[df['income'].notnull()].loc[df['Status']==1]['income'].mode()"
   ]
  },
  {
   "cell_type": "code",
   "execution_count": 45,
   "id": "70878727",
   "metadata": {},
   "outputs": [
    {
     "data": {
      "text/plain": [
       "0    6000.0\n",
       "dtype: float64"
      ]
     },
     "execution_count": 45,
     "metadata": {},
     "output_type": "execute_result"
    }
   ],
   "source": [
    "df[df['income'].notnull()].loc[df['Status']==0]['income'].mode()"
   ]
  },
  {
   "cell_type": "markdown",
   "id": "6d3cb002",
   "metadata": {},
   "source": [
    "###### we can choose either filling the missing values with the mode or mean.\n",
    "######  Here, we fill the missing values using the mode of zero. With the assumption that customers who had no income data may not have any income afterall."
   ]
  },
  {
   "cell_type": "code",
   "execution_count": 46,
   "id": "d4e8ac21",
   "metadata": {},
   "outputs": [
    {
     "name": "stderr",
     "output_type": "stream",
     "text": [
      "C:\\Users\\prisc\\anaconda3\\lib\\site-packages\\pandas\\core\\generic.py:6392: SettingWithCopyWarning: \n",
      "A value is trying to be set on a copy of a slice from a DataFrame\n",
      "\n",
      "See the caveats in the documentation: https://pandas.pydata.org/pandas-docs/stable/user_guide/indexing.html#returning-a-view-versus-a-copy\n",
      "  return self._update_inplace(result)\n"
     ]
    }
   ],
   "source": [
    "numcol['income'].fillna(0, inplace=True)"
   ]
  },
  {
   "cell_type": "markdown",
   "id": "e4f2d67d",
   "metadata": {},
   "source": [
    "###### LTV"
   ]
  },
  {
   "cell_type": "code",
   "execution_count": 47,
   "id": "2114f119",
   "metadata": {},
   "outputs": [
    {
     "data": {
      "text/html": [
       "<div>\n",
       "<style scoped>\n",
       "    .dataframe tbody tr th:only-of-type {\n",
       "        vertical-align: middle;\n",
       "    }\n",
       "\n",
       "    .dataframe tbody tr th {\n",
       "        vertical-align: top;\n",
       "    }\n",
       "\n",
       "    .dataframe thead th {\n",
       "        text-align: right;\n",
       "    }\n",
       "</style>\n",
       "<table border=\"1\" class=\"dataframe\">\n",
       "  <thead>\n",
       "    <tr style=\"text-align: right;\">\n",
       "      <th></th>\n",
       "      <th>LTV</th>\n",
       "    </tr>\n",
       "    <tr>\n",
       "      <th>Status</th>\n",
       "      <th></th>\n",
       "    </tr>\n",
       "  </thead>\n",
       "  <tbody>\n",
       "    <tr>\n",
       "      <th>0</th>\n",
       "      <td>11203</td>\n",
       "    </tr>\n",
       "    <tr>\n",
       "      <th>1</th>\n",
       "      <td>2162</td>\n",
       "    </tr>\n",
       "  </tbody>\n",
       "</table>\n",
       "</div>"
      ],
      "text/plain": [
       "          LTV\n",
       "Status       \n",
       "0       11203\n",
       "1        2162"
      ]
     },
     "execution_count": 47,
     "metadata": {},
     "output_type": "execute_result"
    }
   ],
   "source": [
    "df[['LTV', 'Status']].groupby('Status').count()"
   ]
  },
  {
   "cell_type": "code",
   "execution_count": 48,
   "id": "6b4f988c",
   "metadata": {},
   "outputs": [
    {
     "data": {
      "text/plain": [
       "1    1502\n",
       "Name: Status, dtype: int64"
      ]
     },
     "execution_count": 48,
     "metadata": {},
     "output_type": "execute_result"
    }
   ],
   "source": [
    "df.loc[df['LTV'].isnull()]['Status'].value_counts()"
   ]
  },
  {
   "cell_type": "markdown",
   "id": "9dfc3153",
   "metadata": {},
   "source": [
    "###### number and category of missing value is same as property value. Lets check for their relationship"
   ]
  },
  {
   "cell_type": "code",
   "execution_count": 49,
   "id": "213809b6",
   "metadata": {},
   "outputs": [
    {
     "data": {
      "text/html": [
       "<div>\n",
       "<style scoped>\n",
       "    .dataframe tbody tr th:only-of-type {\n",
       "        vertical-align: middle;\n",
       "    }\n",
       "\n",
       "    .dataframe tbody tr th {\n",
       "        vertical-align: top;\n",
       "    }\n",
       "\n",
       "    .dataframe thead th {\n",
       "        text-align: right;\n",
       "    }\n",
       "</style>\n",
       "<table border=\"1\" class=\"dataframe\">\n",
       "  <thead>\n",
       "    <tr style=\"text-align: right;\">\n",
       "      <th></th>\n",
       "      <th>LTV</th>\n",
       "      <th>property_value</th>\n",
       "    </tr>\n",
       "  </thead>\n",
       "  <tbody>\n",
       "    <tr>\n",
       "      <th>LTV</th>\n",
       "      <td>1.000000</td>\n",
       "      <td>-0.134149</td>\n",
       "    </tr>\n",
       "    <tr>\n",
       "      <th>property_value</th>\n",
       "      <td>-0.134149</td>\n",
       "      <td>1.000000</td>\n",
       "    </tr>\n",
       "  </tbody>\n",
       "</table>\n",
       "</div>"
      ],
      "text/plain": [
       "                     LTV  property_value\n",
       "LTV             1.000000       -0.134149\n",
       "property_value -0.134149        1.000000"
      ]
     },
     "execution_count": 49,
     "metadata": {},
     "output_type": "execute_result"
    }
   ],
   "source": [
    "df[df['LTV'].notnull()].loc[:, ['LTV', 'property_value']].corr()"
   ]
  },
  {
   "cell_type": "markdown",
   "id": "632fa3fb",
   "metadata": {},
   "source": [
    "######  since they are not correlated, there is no need to drop one of them. Hence lets check if the missing value for LTV can be subsitituted"
   ]
  },
  {
   "cell_type": "code",
   "execution_count": 50,
   "id": "c8652797",
   "metadata": {},
   "outputs": [
    {
     "data": {
      "text/html": [
       "<div>\n",
       "<style scoped>\n",
       "    .dataframe tbody tr th:only-of-type {\n",
       "        vertical-align: middle;\n",
       "    }\n",
       "\n",
       "    .dataframe tbody tr th {\n",
       "        vertical-align: top;\n",
       "    }\n",
       "\n",
       "    .dataframe thead tr th {\n",
       "        text-align: left;\n",
       "    }\n",
       "\n",
       "    .dataframe thead tr:last-of-type th {\n",
       "        text-align: right;\n",
       "    }\n",
       "</style>\n",
       "<table border=\"1\" class=\"dataframe\">\n",
       "  <thead>\n",
       "    <tr>\n",
       "      <th></th>\n",
       "      <th colspan=\"4\" halign=\"left\">LTV</th>\n",
       "    </tr>\n",
       "    <tr>\n",
       "      <th></th>\n",
       "      <th>mean</th>\n",
       "      <th>max</th>\n",
       "      <th>min</th>\n",
       "      <th>count</th>\n",
       "    </tr>\n",
       "    <tr>\n",
       "      <th>Status</th>\n",
       "      <th></th>\n",
       "      <th></th>\n",
       "      <th></th>\n",
       "      <th></th>\n",
       "    </tr>\n",
       "  </thead>\n",
       "  <tbody>\n",
       "    <tr>\n",
       "      <th>0</th>\n",
       "      <td>72.661739</td>\n",
       "      <td>7831.250000</td>\n",
       "      <td>3.125000</td>\n",
       "      <td>11203</td>\n",
       "    </tr>\n",
       "    <tr>\n",
       "      <th>1</th>\n",
       "      <td>75.653281</td>\n",
       "      <td>186.029412</td>\n",
       "      <td>6.865027</td>\n",
       "      <td>2162</td>\n",
       "    </tr>\n",
       "  </tbody>\n",
       "</table>\n",
       "</div>"
      ],
      "text/plain": [
       "              LTV                              \n",
       "             mean          max       min  count\n",
       "Status                                         \n",
       "0       72.661739  7831.250000  3.125000  11203\n",
       "1       75.653281   186.029412  6.865027   2162"
      ]
     },
     "execution_count": 50,
     "metadata": {},
     "output_type": "execute_result"
    }
   ],
   "source": [
    "df[['LTV', 'Status']].groupby('Status').agg(['mean','max','min', 'count'])"
   ]
  },
  {
   "cell_type": "code",
   "execution_count": 51,
   "id": "15d60158",
   "metadata": {},
   "outputs": [
    {
     "data": {
      "text/plain": [
       "count    13365.000000\n",
       "mean        73.145668\n",
       "std         69.693239\n",
       "min          3.125000\n",
       "25%         60.658915\n",
       "50%         75.173611\n",
       "75%         86.073825\n",
       "max       7831.250000\n",
       "Name: LTV, dtype: float64"
      ]
     },
     "execution_count": 51,
     "metadata": {},
     "output_type": "execute_result"
    }
   ],
   "source": [
    "df['LTV'].describe()"
   ]
  },
  {
   "cell_type": "code",
   "execution_count": 52,
   "id": "e6cde56b",
   "metadata": {},
   "outputs": [
    {
     "data": {
      "text/plain": [
       "0    81.25\n",
       "dtype: float64"
      ]
     },
     "execution_count": 52,
     "metadata": {},
     "output_type": "execute_result"
    }
   ],
   "source": [
    "df[df['LTV'].notnull()].loc[df['Status']==0]['LTV'].mode()"
   ]
  },
  {
   "cell_type": "code",
   "execution_count": 53,
   "id": "6f2e8609",
   "metadata": {},
   "outputs": [
    {
     "data": {
      "text/plain": [
       "0    91.666667\n",
       "dtype: float64"
      ]
     },
     "execution_count": 53,
     "metadata": {},
     "output_type": "execute_result"
    }
   ],
   "source": [
    "df[df['LTV'].notnull()].loc[df['Status']==1]['LTV'].mode()"
   ]
  },
  {
   "cell_type": "markdown",
   "id": "88fe4701",
   "metadata": {},
   "source": [
    "###### fill the missing value using the mean"
   ]
  },
  {
   "cell_type": "code",
   "execution_count": 54,
   "id": "6467456c",
   "metadata": {},
   "outputs": [
    {
     "name": "stderr",
     "output_type": "stream",
     "text": [
      "C:\\Users\\prisc\\anaconda3\\lib\\site-packages\\pandas\\core\\frame.py:5176: SettingWithCopyWarning: \n",
      "A value is trying to be set on a copy of a slice from a DataFrame\n",
      "\n",
      "See the caveats in the documentation: https://pandas.pydata.org/pandas-docs/stable/user_guide/indexing.html#returning-a-view-versus-a-copy\n",
      "  return super().fillna(\n"
     ]
    }
   ],
   "source": [
    "ltv_mean = df[df['LTV'].notnull()].loc[df['Status']==1]['LTV'].mean()\n",
    "numcol.fillna(ltv_mean, inplace=True)"
   ]
  },
  {
   "cell_type": "markdown",
   "id": "cad0e0d7",
   "metadata": {},
   "source": [
    "###### notice the outlier 7831, will come to that"
   ]
  },
  {
   "cell_type": "markdown",
   "id": "b97465de",
   "metadata": {},
   "source": [
    "###### dtir1"
   ]
  },
  {
   "cell_type": "code",
   "execution_count": 55,
   "id": "3c7ee845",
   "metadata": {},
   "outputs": [
    {
     "data": {
      "text/html": [
       "<div>\n",
       "<style scoped>\n",
       "    .dataframe tbody tr th:only-of-type {\n",
       "        vertical-align: middle;\n",
       "    }\n",
       "\n",
       "    .dataframe tbody tr th {\n",
       "        vertical-align: top;\n",
       "    }\n",
       "\n",
       "    .dataframe thead th {\n",
       "        text-align: right;\n",
       "    }\n",
       "</style>\n",
       "<table border=\"1\" class=\"dataframe\">\n",
       "  <thead>\n",
       "    <tr style=\"text-align: right;\">\n",
       "      <th></th>\n",
       "      <th>dtir1</th>\n",
       "    </tr>\n",
       "    <tr>\n",
       "      <th>Status</th>\n",
       "      <th></th>\n",
       "    </tr>\n",
       "  </thead>\n",
       "  <tbody>\n",
       "    <tr>\n",
       "      <th>0</th>\n",
       "      <td>10420</td>\n",
       "    </tr>\n",
       "    <tr>\n",
       "      <th>1</th>\n",
       "      <td>2039</td>\n",
       "    </tr>\n",
       "  </tbody>\n",
       "</table>\n",
       "</div>"
      ],
      "text/plain": [
       "        dtir1\n",
       "Status       \n",
       "0       10420\n",
       "1        2039"
      ]
     },
     "execution_count": 55,
     "metadata": {},
     "output_type": "execute_result"
    }
   ],
   "source": [
    "df[['dtir1', 'Status']].groupby('Status').count()"
   ]
  },
  {
   "cell_type": "code",
   "execution_count": 56,
   "id": "aa7d6f3b",
   "metadata": {},
   "outputs": [
    {
     "data": {
      "text/plain": [
       "1    1625\n",
       "0     783\n",
       "Name: Status, dtype: int64"
      ]
     },
     "execution_count": 56,
     "metadata": {},
     "output_type": "execute_result"
    }
   ],
   "source": [
    "df.loc[df['dtir1'].isnull()]['Status'].value_counts()"
   ]
  },
  {
   "cell_type": "code",
   "execution_count": 57,
   "id": "11f1fde2",
   "metadata": {},
   "outputs": [
    {
     "data": {
      "text/html": [
       "<div>\n",
       "<style scoped>\n",
       "    .dataframe tbody tr th:only-of-type {\n",
       "        vertical-align: middle;\n",
       "    }\n",
       "\n",
       "    .dataframe tbody tr th {\n",
       "        vertical-align: top;\n",
       "    }\n",
       "\n",
       "    .dataframe thead tr th {\n",
       "        text-align: left;\n",
       "    }\n",
       "\n",
       "    .dataframe thead tr:last-of-type th {\n",
       "        text-align: right;\n",
       "    }\n",
       "</style>\n",
       "<table border=\"1\" class=\"dataframe\">\n",
       "  <thead>\n",
       "    <tr>\n",
       "      <th></th>\n",
       "      <th colspan=\"4\" halign=\"left\">dtir1</th>\n",
       "    </tr>\n",
       "    <tr>\n",
       "      <th></th>\n",
       "      <th>mean</th>\n",
       "      <th>max</th>\n",
       "      <th>min</th>\n",
       "      <th>count</th>\n",
       "    </tr>\n",
       "    <tr>\n",
       "      <th>Status</th>\n",
       "      <th></th>\n",
       "      <th></th>\n",
       "      <th></th>\n",
       "      <th></th>\n",
       "    </tr>\n",
       "  </thead>\n",
       "  <tbody>\n",
       "    <tr>\n",
       "      <th>0</th>\n",
       "      <td>37.437620</td>\n",
       "      <td>61.0</td>\n",
       "      <td>5.0</td>\n",
       "      <td>10420</td>\n",
       "    </tr>\n",
       "    <tr>\n",
       "      <th>1</th>\n",
       "      <td>39.630211</td>\n",
       "      <td>61.0</td>\n",
       "      <td>5.0</td>\n",
       "      <td>2039</td>\n",
       "    </tr>\n",
       "  </tbody>\n",
       "</table>\n",
       "</div>"
      ],
      "text/plain": [
       "            dtir1                  \n",
       "             mean   max  min  count\n",
       "Status                             \n",
       "0       37.437620  61.0  5.0  10420\n",
       "1       39.630211  61.0  5.0   2039"
      ]
     },
     "execution_count": 57,
     "metadata": {},
     "output_type": "execute_result"
    }
   ],
   "source": [
    "df[['dtir1', 'Status']].groupby('Status').agg(['mean','max','min', 'count'])"
   ]
  },
  {
   "cell_type": "code",
   "execution_count": 58,
   "id": "27e72a05",
   "metadata": {},
   "outputs": [],
   "source": [
    "stat1_mean = df[df['dtir1'].notnull()].loc[df['Status']==1]['dtir1'].mean()\n",
    "stat0_mean = df[df['dtir1'].notnull()].loc[df['Status']==0]['dtir1'].mean()\n",
    "\n",
    "numcol.loc[numcol['Status']==1, 'dtir1'].fillna(stat1_mean, inplace=True)\n",
    "numcol.loc[numcol['Status']==0, 'dtir1'].fillna(stat0_mean, inplace=True)"
   ]
  },
  {
   "cell_type": "code",
   "execution_count": 59,
   "id": "e15eb50d",
   "metadata": {},
   "outputs": [
    {
     "data": {
      "text/plain": [
       "Series([], Name: Status, dtype: int64)"
      ]
     },
     "execution_count": 59,
     "metadata": {},
     "output_type": "execute_result"
    }
   ],
   "source": [
    "numcol.loc[numcol['dtir1'].isnull()]['Status'].value_counts()"
   ]
  },
  {
   "cell_type": "markdown",
   "id": "b336004a",
   "metadata": {},
   "source": [
    "#### Handling missing values on categorical columns\n",
    "Categorical columns with missing values: loan_limit, approv_in_adv, loan_purpose, Neg_ammortization, age,submission_of_application"
   ]
  },
  {
   "cell_type": "code",
   "execution_count": 60,
   "id": "ae7e682d",
   "metadata": {},
   "outputs": [
    {
     "data": {
      "text/plain": [
       "loan_limit                   333\n",
       "Gender                         0\n",
       "approv_in_adv                 80\n",
       "loan_type                      0\n",
       "loan_purpose                  14\n",
       "Credit_Worthiness              0\n",
       "open_credit                    0\n",
       "business_or_commercial         0\n",
       "Neg_ammortization             12\n",
       "interest_only                  0\n",
       "lump_sum_payment               0\n",
       "construction_type              0\n",
       "occupancy_type                 0\n",
       "Secured_by                     0\n",
       "total_units                    0\n",
       "credit_type                    0\n",
       "co-applicant_credit_type       0\n",
       "age                           25\n",
       "submission_of_application     25\n",
       "Region                         0\n",
       "Security_Type                  0\n",
       "dtype: int64"
      ]
     },
     "execution_count": 60,
     "metadata": {},
     "output_type": "execute_result"
    }
   ],
   "source": [
    "# null values count\n",
    "catcol.isnull().sum()"
   ]
  },
  {
   "cell_type": "code",
   "execution_count": 61,
   "id": "d8a09f02",
   "metadata": {},
   "outputs": [
    {
     "name": "stderr",
     "output_type": "stream",
     "text": [
      "C:\\Users\\prisc\\AppData\\Local\\Temp/ipykernel_17840/1334760057.py:2: SettingWithCopyWarning: \n",
      "A value is trying to be set on a copy of a slice from a DataFrame.\n",
      "Try using .loc[row_indexer,col_indexer] = value instead\n",
      "\n",
      "See the caveats in the documentation: https://pandas.pydata.org/pandas-docs/stable/user_guide/indexing.html#returning-a-view-versus-a-copy\n",
      "  catcol['target'] = df['Status'].astype('str')\n"
     ]
    }
   ],
   "source": [
    "# add status column as target and convert to object type\n",
    "catcol['target'] = df['Status'].astype('str')"
   ]
  },
  {
   "cell_type": "markdown",
   "id": "2e88a71e",
   "metadata": {},
   "source": [
    "###### Loan Limit"
   ]
  },
  {
   "cell_type": "code",
   "execution_count": 62,
   "id": "65b3cc97",
   "metadata": {},
   "outputs": [
    {
     "data": {
      "image/png": "[encoded data removed]",
      "text/plain": [
       "<Figure size 432x288 with 1 Axes>"
      ]
     },
     "metadata": {
      "needs_background": "light"
     },
     "output_type": "display_data"
    }
   ],
   "source": [
    "ax = sns.countplot(data=catcol, x='loan_limit', hue='target', saturation=1, alpha=0.9, palette='rocket')"
   ]
  },
  {
   "cell_type": "code",
   "execution_count": 63,
   "id": "0701a233",
   "metadata": {},
   "outputs": [
    {
     "data": {
      "text/html": [
       "<div>\n",
       "<style scoped>\n",
       "    .dataframe tbody tr th:only-of-type {\n",
       "        vertical-align: middle;\n",
       "    }\n",
       "\n",
       "    .dataframe tbody tr th {\n",
       "        vertical-align: top;\n",
       "    }\n",
       "\n",
       "    .dataframe thead th {\n",
       "        text-align: right;\n",
       "    }\n",
       "</style>\n",
       "<table border=\"1\" class=\"dataframe\">\n",
       "  <thead>\n",
       "    <tr style=\"text-align: right;\">\n",
       "      <th></th>\n",
       "      <th>loan_limit</th>\n",
       "    </tr>\n",
       "    <tr>\n",
       "      <th>target</th>\n",
       "      <th></th>\n",
       "    </tr>\n",
       "  </thead>\n",
       "  <tbody>\n",
       "    <tr>\n",
       "      <th>0</th>\n",
       "      <td>10966</td>\n",
       "    </tr>\n",
       "    <tr>\n",
       "      <th>1</th>\n",
       "      <td>3568</td>\n",
       "    </tr>\n",
       "  </tbody>\n",
       "</table>\n",
       "</div>"
      ],
      "text/plain": [
       "        loan_limit\n",
       "target            \n",
       "0            10966\n",
       "1             3568"
      ]
     },
     "execution_count": 63,
     "metadata": {},
     "output_type": "execute_result"
    }
   ],
   "source": [
    "catcol[['loan_limit', 'target']].groupby('target').count()"
   ]
  },
  {
   "cell_type": "code",
   "execution_count": 64,
   "id": "f9fe396c",
   "metadata": {},
   "outputs": [
    {
     "data": {
      "text/plain": [
       "0    237\n",
       "1     96\n",
       "Name: Status, dtype: int64"
      ]
     },
     "execution_count": 64,
     "metadata": {},
     "output_type": "execute_result"
    }
   ],
   "source": [
    "df.loc[df['loan_limit'].isnull()]['Status'].value_counts()"
   ]
  },
  {
   "cell_type": "code",
   "execution_count": 65,
   "id": "25eee3d6",
   "metadata": {},
   "outputs": [
    {
     "name": "stderr",
     "output_type": "stream",
     "text": [
      "C:\\Users\\prisc\\anaconda3\\lib\\site-packages\\pandas\\core\\generic.py:6392: SettingWithCopyWarning: \n",
      "A value is trying to be set on a copy of a slice from a DataFrame\n",
      "\n",
      "See the caveats in the documentation: https://pandas.pydata.org/pandas-docs/stable/user_guide/indexing.html#returning-a-view-versus-a-copy\n",
      "  return self._update_inplace(result)\n"
     ]
    }
   ],
   "source": [
    "# fill the missing value as a new category not_available 'na'\n",
    "catcol['loan_limit'].fillna('na', inplace=True)"
   ]
  },
  {
   "cell_type": "markdown",
   "id": "f6fc5996",
   "metadata": {},
   "source": [
    "###### Approve in Advance"
   ]
  },
  {
   "cell_type": "code",
   "execution_count": 66,
   "id": "1c4468a2",
   "metadata": {},
   "outputs": [
    {
     "data": {
      "image/png": "[encoded data removed]",
      "text/plain": [
       "<Figure size 432x288 with 1 Axes>"
      ]
     },
     "metadata": {
      "needs_background": "light"
     },
     "output_type": "display_data"
    }
   ],
   "source": [
    "ax = sns.countplot(data=catcol, x='approv_in_adv', hue='target', saturation=1, alpha=0.9, palette='rocket')"
   ]
  },
  {
   "cell_type": "code",
   "execution_count": 67,
   "id": "4b92ad02",
   "metadata": {},
   "outputs": [
    {
     "name": "stderr",
     "output_type": "stream",
     "text": [
      "C:\\Users\\prisc\\anaconda3\\lib\\site-packages\\pandas\\core\\generic.py:6392: SettingWithCopyWarning: \n",
      "A value is trying to be set on a copy of a slice from a DataFrame\n",
      "\n",
      "See the caveats in the documentation: https://pandas.pydata.org/pandas-docs/stable/user_guide/indexing.html#returning-a-view-versus-a-copy\n",
      "  return self._update_inplace(result)\n"
     ]
    }
   ],
   "source": [
    "# fill the missing value as a new category not_available 'na'\n",
    "catcol['approv_in_adv'].fillna('na', inplace=True)"
   ]
  },
  {
   "cell_type": "markdown",
   "id": "2b51e4ef",
   "metadata": {},
   "source": [
    "Loan_Purpose"
   ]
  },
  {
   "cell_type": "code",
   "execution_count": 68,
   "id": "f4ee8543",
   "metadata": {},
   "outputs": [
    {
     "data": {
      "image/png": "[encoded data removed]",
      "text/plain": [
       "<Figure size 432x288 with 1 Axes>"
      ]
     },
     "metadata": {
      "needs_background": "light"
     },
     "output_type": "display_data"
    }
   ],
   "source": [
    "ax = sns.countplot(data=catcol, x='loan_purpose', hue='target', saturation=1, alpha=0.9, palette='rocket')"
   ]
  },
  {
   "cell_type": "code",
   "execution_count": 69,
   "id": "6dbed1b3",
   "metadata": {},
   "outputs": [
    {
     "name": "stderr",
     "output_type": "stream",
     "text": [
      "C:\\Users\\prisc\\anaconda3\\lib\\site-packages\\pandas\\core\\generic.py:6392: SettingWithCopyWarning: \n",
      "A value is trying to be set on a copy of a slice from a DataFrame\n",
      "\n",
      "See the caveats in the documentation: https://pandas.pydata.org/pandas-docs/stable/user_guide/indexing.html#returning-a-view-versus-a-copy\n",
      "  return self._update_inplace(result)\n"
     ]
    }
   ],
   "source": [
    "# fill missing value using most occurring category\n",
    "catcol['loan_purpose'].fillna('p3', inplace=True)"
   ]
  },
  {
   "cell_type": "markdown",
   "id": "ba497a28",
   "metadata": {},
   "source": [
    "###### Negative ammortization"
   ]
  },
  {
   "cell_type": "code",
   "execution_count": 70,
   "id": "883427a1",
   "metadata": {},
   "outputs": [
    {
     "data": {
      "image/png": "[encoded data removed]",
      "text/plain": [
       "<Figure size 432x288 with 1 Axes>"
      ]
     },
     "metadata": {
      "needs_background": "light"
     },
     "output_type": "display_data"
    }
   ],
   "source": [
    "ax = sns.countplot(data=catcol, x='Neg_ammortization', hue='target', saturation=1, alpha=0.9, palette='rocket')"
   ]
  },
  {
   "cell_type": "code",
   "execution_count": 71,
   "id": "227ed953",
   "metadata": {},
   "outputs": [
    {
     "data": {
      "text/plain": [
       "0    9\n",
       "1    3\n",
       "Name: Status, dtype: int64"
      ]
     },
     "execution_count": 71,
     "metadata": {},
     "output_type": "execute_result"
    }
   ],
   "source": [
    "df.loc[df['Neg_ammortization'].isnull()]['Status'].value_counts()"
   ]
  },
  {
   "cell_type": "code",
   "execution_count": 72,
   "id": "976fb5d9",
   "metadata": {},
   "outputs": [
    {
     "name": "stderr",
     "output_type": "stream",
     "text": [
      "C:\\Users\\prisc\\anaconda3\\lib\\site-packages\\pandas\\core\\generic.py:6392: SettingWithCopyWarning: \n",
      "A value is trying to be set on a copy of a slice from a DataFrame\n",
      "\n",
      "See the caveats in the documentation: https://pandas.pydata.org/pandas-docs/stable/user_guide/indexing.html#returning-a-view-versus-a-copy\n",
      "  return self._update_inplace(result)\n"
     ]
    }
   ],
   "source": [
    "# Majority of the customers do not have negative ammortization. fill missing value using most occurring category\n",
    "# we can also choose to eliminate this missing columns, since they are very few.\n",
    "catcol['Neg_ammortization'].fillna('not_neg', inplace=True)"
   ]
  },
  {
   "cell_type": "markdown",
   "id": "1573c577",
   "metadata": {},
   "source": [
    "###### Age"
   ]
  },
  {
   "cell_type": "code",
   "execution_count": 73,
   "id": "779ca40b",
   "metadata": {},
   "outputs": [
    {
     "data": {
      "image/png": "[encoded data removed]",
      "text/plain": [
       "<Figure size 432x288 with 1 Axes>"
      ]
     },
     "metadata": {
      "needs_background": "light"
     },
     "output_type": "display_data"
    }
   ],
   "source": [
    "ax = sns.countplot(data=catcol, x='age', hue='target', saturation=1, alpha=0.9, palette='rocket')"
   ]
  },
  {
   "cell_type": "code",
   "execution_count": 74,
   "id": "7fae19f9",
   "metadata": {},
   "outputs": [
    {
     "name": "stderr",
     "output_type": "stream",
     "text": [
      "C:\\Users\\prisc\\anaconda3\\lib\\site-packages\\pandas\\core\\generic.py:6392: SettingWithCopyWarning: \n",
      "A value is trying to be set on a copy of a slice from a DataFrame\n",
      "\n",
      "See the caveats in the documentation: https://pandas.pydata.org/pandas-docs/stable/user_guide/indexing.html#returning-a-view-versus-a-copy\n",
      "  return self._update_inplace(result)\n"
     ]
    }
   ],
   "source": [
    "# fill the missing value with the mode\n",
    "catcol['age'].fillna('45-54', inplace=True)"
   ]
  },
  {
   "cell_type": "code",
   "execution_count": 75,
   "id": "803291ac",
   "metadata": {},
   "outputs": [
    {
     "data": {
      "text/plain": [
       "45-54    3534\n",
       "35-44    3243\n",
       "55-64    3238\n",
       "65-74    2060\n",
       "25-34    1951\n",
       ">74       701\n",
       "<25       140\n",
       "Name: age, dtype: int64"
      ]
     },
     "execution_count": 75,
     "metadata": {},
     "output_type": "execute_result"
    }
   ],
   "source": [
    "catcol['age'].value_counts()"
   ]
  },
  {
   "cell_type": "markdown",
   "id": "d3175498",
   "metadata": {},
   "source": [
    "###### Submission_of_application"
   ]
  },
  {
   "cell_type": "code",
   "execution_count": 77,
   "id": "774ca70f",
   "metadata": {},
   "outputs": [
    {
     "data": {
      "image/png": "[encoded data removed]",
      "text/plain": [
       "<Figure size 432x288 with 1 Axes>"
      ]
     },
     "metadata": {
      "needs_background": "light"
     },
     "output_type": "display_data"
    }
   ],
   "source": [
    "ax = sns.countplot(data=catcol, x='submission_of_application', hue='target', saturation=1, alpha=0.9, palette='rocket')"
   ]
  },
  {
   "cell_type": "code",
   "execution_count": 78,
   "id": "0b178fdd",
   "metadata": {},
   "outputs": [
    {
     "name": "stderr",
     "output_type": "stream",
     "text": [
      "C:\\Users\\prisc\\anaconda3\\lib\\site-packages\\pandas\\core\\generic.py:6392: SettingWithCopyWarning: \n",
      "A value is trying to be set on a copy of a slice from a DataFrame\n",
      "\n",
      "See the caveats in the documentation: https://pandas.pydata.org/pandas-docs/stable/user_guide/indexing.html#returning-a-view-versus-a-copy\n",
      "  return self._update_inplace(result)\n"
     ]
    }
   ],
   "source": [
    "# fill missing value using most occurring category\n",
    "catcol['submission_of_application'].fillna('to_inst', inplace=True)"
   ]
  },
  {
   "cell_type": "markdown",
   "id": "04f724c4",
   "metadata": {},
   "source": [
    "## Feature Selection: Avoiding Overfitting due to redundant features"
   ]
  },
  {
   "cell_type": "markdown",
   "id": "c85921f2",
   "metadata": {},
   "source": [
    "###### using Chisquare statistical test to select important non negative features that are relevant to the status columns"
   ]
  },
  {
   "cell_type": "code",
   "execution_count": 79,
   "id": "b8f24276",
   "metadata": {},
   "outputs": [
    {
     "data": {
      "text/plain": [
       "['Unnamed: 0',\n",
       " 'ID',\n",
       " 'year',\n",
       " 'loan_amount',\n",
       " 'rate_of_interest',\n",
       " 'term',\n",
       " 'property_value',\n",
       " 'income',\n",
       " 'Credit_Score',\n",
       " 'LTV',\n",
       " 'dtir1',\n",
       " 'Status']"
      ]
     },
     "execution_count": 79,
     "metadata": {},
     "output_type": "execute_result"
    }
   ],
   "source": [
    "list(numcol)"
   ]
  },
  {
   "cell_type": "code",
   "execution_count": 80,
   "id": "d7e701a4",
   "metadata": {},
   "outputs": [
    {
     "data": {
      "text/plain": [
       "Index(['Unnamed: 0', 'ID', 'year', 'loan_amount', 'rate_of_interest', 'term',\n",
       "       'property_value', 'income', 'Credit_Score', 'LTV', 'dtir1'],\n",
       "      dtype='object')"
      ]
     },
     "execution_count": 80,
     "metadata": {},
     "output_type": "execute_result"
    }
   ],
   "source": [
    "numcol.iloc[:,0:11].columns"
   ]
  },
  {
   "cell_type": "code",
   "execution_count": 81,
   "id": "13c6e550",
   "metadata": {},
   "outputs": [
    {
     "name": "stdout",
     "output_type": "stream",
     "text": [
      "               Specs         Score\n",
      "6     property_value  3.547343e+08\n",
      "3        loan_amount  1.694345e+06\n",
      "7             income  3.076992e+05\n",
      "10             dtir1  1.509649e+04\n",
      "9                LTV  3.366406e+02\n",
      "0         Unnamed: 0  3.117407e+02\n",
      "1                 ID  2.334262e+02\n",
      "8       Credit_Score  4.737764e+01\n",
      "5               term  1.549846e+01\n",
      "4   rate_of_interest  1.289315e+01\n"
     ]
    }
   ],
   "source": [
    "from sklearn.feature_selection import SelectKBest\n",
    "from sklearn.feature_selection import chi2\n",
    "\n",
    "X = numcol.iloc[:,0:11]  #independent columns\n",
    "y = numcol.iloc[:,-1]    #target column i.e status\n",
    "#apply SelectKBest class to extract top 10 best features\n",
    "bestfeatures = SelectKBest(score_func=chi2, k=10)\n",
    "fit = bestfeatures.fit(X,y)\n",
    "dfscores = pd.DataFrame(fit.scores_)\n",
    "dfcolumns = pd.DataFrame(X.columns)\n",
    "#concat two dataframes for better visualization \n",
    "featureScores = pd.concat([dfcolumns,dfscores],axis=1)\n",
    "featureScores.columns = ['Specs','Score']  #naming the dataframe columns\n",
    "print(featureScores.nlargest(10,'Score'))  #print 10 best featuresv"
   ]
  },
  {
   "cell_type": "markdown",
   "id": "5bb4387a",
   "metadata": {},
   "source": [
    "###### Columns: property_value, loan_amount, rate of interest, income and dtir1 will be use in the model"
   ]
  },
  {
   "cell_type": "code",
   "execution_count": 82,
   "id": "3dc2f47d",
   "metadata": {},
   "outputs": [
    {
     "data": {
      "image/png": "[encoded data removed]",
      "text/plain": [
       "<Figure size 1440x1440 with 2 Axes>"
      ]
     },
     "metadata": {
      "needs_background": "light"
     },
     "output_type": "display_data"
    }
   ],
   "source": [
    "X = numcol.iloc[:,0:11]  #independent columns\n",
    "y = numcol.iloc[:,-1]    #target column i.e status\n",
    "#get correlations of each features in dataset\n",
    "corrmat = numcol.corr()\n",
    "top_corr_features = corrmat.index\n",
    "plt.figure(figsize=(20,20))\n",
    "#plot heat map\n",
    "g=sns.heatmap(numcol[top_corr_features].corr(),annot=True,cmap=\"RdYlGn\")"
   ]
  },
  {
   "cell_type": "markdown",
   "id": "c2607368",
   "metadata": {},
   "source": [
    "###### Non of the selected variables are perfectly colinear."
   ]
  },
  {
   "cell_type": "code",
   "execution_count": 83,
   "id": "2f75f30f",
   "metadata": {},
   "outputs": [
    {
     "data": {
      "text/plain": [
       "['loan_limit',\n",
       " 'Gender',\n",
       " 'approv_in_adv',\n",
       " 'loan_type',\n",
       " 'loan_purpose',\n",
       " 'Credit_Worthiness',\n",
       " 'open_credit',\n",
       " 'business_or_commercial',\n",
       " 'Neg_ammortization',\n",
       " 'interest_only',\n",
       " 'lump_sum_payment',\n",
       " 'construction_type',\n",
       " 'occupancy_type',\n",
       " 'Secured_by',\n",
       " 'total_units',\n",
       " 'credit_type',\n",
       " 'co-applicant_credit_type',\n",
       " 'age',\n",
       " 'submission_of_application',\n",
       " 'Region',\n",
       " 'Security_Type',\n",
       " 'target']"
      ]
     },
     "execution_count": 83,
     "metadata": {},
     "output_type": "execute_result"
    }
   ],
   "source": [
    "list(catcol)"
   ]
  },
  {
   "cell_type": "code",
   "execution_count": 84,
   "id": "21063be7",
   "metadata": {},
   "outputs": [
    {
     "data": {
      "text/plain": [
       "Index(['loan_limit', 'Gender', 'approv_in_adv', 'loan_type', 'loan_purpose',\n",
       "       'Credit_Worthiness', 'open_credit', 'business_or_commercial',\n",
       "       'Neg_ammortization', 'interest_only', 'lump_sum_payment',\n",
       "       'construction_type', 'occupancy_type', 'Secured_by', 'total_units',\n",
       "       'credit_type', 'co-applicant_credit_type', 'age',\n",
       "       'submission_of_application', 'Region', 'Security_Type'],\n",
       "      dtype='object')"
      ]
     },
     "execution_count": 84,
     "metadata": {},
     "output_type": "execute_result"
    }
   ],
   "source": [
    "catcol.iloc[:,0:21].columns"
   ]
  },
  {
   "cell_type": "markdown",
   "id": "7e4fb356",
   "metadata": {},
   "source": [
    "### Encoding Categorical Variables"
   ]
  },
  {
   "cell_type": "code",
   "execution_count": 85,
   "id": "77d19294",
   "metadata": {},
   "outputs": [
    {
     "data": {
      "text/html": [
       "<div>\n",
       "<style scoped>\n",
       "    .dataframe tbody tr th:only-of-type {\n",
       "        vertical-align: middle;\n",
       "    }\n",
       "\n",
       "    .dataframe tbody tr th {\n",
       "        vertical-align: top;\n",
       "    }\n",
       "\n",
       "    .dataframe thead th {\n",
       "        text-align: right;\n",
       "    }\n",
       "</style>\n",
       "<table border=\"1\" class=\"dataframe\">\n",
       "  <thead>\n",
       "    <tr style=\"text-align: right;\">\n",
       "      <th></th>\n",
       "      <th>loan_limit</th>\n",
       "      <th>Gender</th>\n",
       "      <th>approv_in_adv</th>\n",
       "      <th>loan_type</th>\n",
       "      <th>loan_purpose</th>\n",
       "      <th>Credit_Worthiness</th>\n",
       "      <th>open_credit</th>\n",
       "      <th>business_or_commercial</th>\n",
       "      <th>Neg_ammortization</th>\n",
       "      <th>interest_only</th>\n",
       "      <th>...</th>\n",
       "      <th>occupancy_type</th>\n",
       "      <th>Secured_by</th>\n",
       "      <th>total_units</th>\n",
       "      <th>credit_type</th>\n",
       "      <th>co-applicant_credit_type</th>\n",
       "      <th>age</th>\n",
       "      <th>submission_of_application</th>\n",
       "      <th>Region</th>\n",
       "      <th>Security_Type</th>\n",
       "      <th>target</th>\n",
       "    </tr>\n",
       "  </thead>\n",
       "  <tbody>\n",
       "    <tr>\n",
       "      <th>count</th>\n",
       "      <td>14867</td>\n",
       "      <td>14867</td>\n",
       "      <td>14867</td>\n",
       "      <td>14867</td>\n",
       "      <td>14867</td>\n",
       "      <td>14867</td>\n",
       "      <td>14867</td>\n",
       "      <td>14867</td>\n",
       "      <td>14867</td>\n",
       "      <td>14867</td>\n",
       "      <td>...</td>\n",
       "      <td>14867</td>\n",
       "      <td>14867</td>\n",
       "      <td>14867</td>\n",
       "      <td>14867</td>\n",
       "      <td>14867</td>\n",
       "      <td>14867</td>\n",
       "      <td>14867</td>\n",
       "      <td>14867</td>\n",
       "      <td>14867</td>\n",
       "      <td>14867</td>\n",
       "    </tr>\n",
       "    <tr>\n",
       "      <th>unique</th>\n",
       "      <td>3</td>\n",
       "      <td>4</td>\n",
       "      <td>3</td>\n",
       "      <td>3</td>\n",
       "      <td>4</td>\n",
       "      <td>2</td>\n",
       "      <td>2</td>\n",
       "      <td>2</td>\n",
       "      <td>2</td>\n",
       "      <td>2</td>\n",
       "      <td>...</td>\n",
       "      <td>3</td>\n",
       "      <td>2</td>\n",
       "      <td>4</td>\n",
       "      <td>4</td>\n",
       "      <td>2</td>\n",
       "      <td>7</td>\n",
       "      <td>2</td>\n",
       "      <td>4</td>\n",
       "      <td>2</td>\n",
       "      <td>2</td>\n",
       "    </tr>\n",
       "    <tr>\n",
       "      <th>top</th>\n",
       "      <td>cf</td>\n",
       "      <td>Male</td>\n",
       "      <td>nopre</td>\n",
       "      <td>type1</td>\n",
       "      <td>p3</td>\n",
       "      <td>l1</td>\n",
       "      <td>nopc</td>\n",
       "      <td>nob/c</td>\n",
       "      <td>not_neg</td>\n",
       "      <td>not_int</td>\n",
       "      <td>...</td>\n",
       "      <td>pr</td>\n",
       "      <td>home</td>\n",
       "      <td>1U</td>\n",
       "      <td>CIB</td>\n",
       "      <td>CIB</td>\n",
       "      <td>45-54</td>\n",
       "      <td>to_inst</td>\n",
       "      <td>North</td>\n",
       "      <td>direct</td>\n",
       "      <td>0</td>\n",
       "    </tr>\n",
       "    <tr>\n",
       "      <th>freq</th>\n",
       "      <td>13583</td>\n",
       "      <td>4323</td>\n",
       "      <td>12522</td>\n",
       "      <td>11360</td>\n",
       "      <td>5647</td>\n",
       "      <td>14274</td>\n",
       "      <td>14817</td>\n",
       "      <td>12760</td>\n",
       "      <td>13390</td>\n",
       "      <td>14145</td>\n",
       "      <td>...</td>\n",
       "      <td>13860</td>\n",
       "      <td>14865</td>\n",
       "      <td>14635</td>\n",
       "      <td>4786</td>\n",
       "      <td>7475</td>\n",
       "      <td>3534</td>\n",
       "      <td>9558</td>\n",
       "      <td>7474</td>\n",
       "      <td>14865</td>\n",
       "      <td>11203</td>\n",
       "    </tr>\n",
       "  </tbody>\n",
       "</table>\n",
       "<p>4 rows × 22 columns</p>\n",
       "</div>"
      ],
      "text/plain": [
       "       loan_limit Gender approv_in_adv loan_type loan_purpose  \\\n",
       "count       14867  14867         14867     14867        14867   \n",
       "unique          3      4             3         3            4   \n",
       "top            cf   Male         nopre     type1           p3   \n",
       "freq        13583   4323         12522     11360         5647   \n",
       "\n",
       "       Credit_Worthiness open_credit business_or_commercial Neg_ammortization  \\\n",
       "count              14867       14867                  14867             14867   \n",
       "unique                 2           2                      2                 2   \n",
       "top                   l1        nopc                  nob/c           not_neg   \n",
       "freq               14274       14817                  12760             13390   \n",
       "\n",
       "       interest_only  ... occupancy_type Secured_by total_units credit_type  \\\n",
       "count          14867  ...          14867      14867       14867       14867   \n",
       "unique             2  ...              3          2           4           4   \n",
       "top          not_int  ...             pr       home          1U         CIB   \n",
       "freq           14145  ...          13860      14865       14635        4786   \n",
       "\n",
       "       co-applicant_credit_type    age submission_of_application Region  \\\n",
       "count                     14867  14867                     14867  14867   \n",
       "unique                        2      7                         2      4   \n",
       "top                         CIB  45-54                   to_inst  North   \n",
       "freq                       7475   3534                      9558   7474   \n",
       "\n",
       "       Security_Type target  \n",
       "count          14867  14867  \n",
       "unique             2      2  \n",
       "top           direct      0  \n",
       "freq           14865  11203  \n",
       "\n",
       "[4 rows x 22 columns]"
      ]
     },
     "execution_count": 85,
     "metadata": {},
     "output_type": "execute_result"
    }
   ],
   "source": [
    "catcol.describe()"
   ]
  },
  {
   "cell_type": "code",
   "execution_count": 86,
   "id": "6056bdfb",
   "metadata": {},
   "outputs": [
    {
     "data": {
      "text/html": [
       "<div>\n",
       "<style scoped>\n",
       "    .dataframe tbody tr th:only-of-type {\n",
       "        vertical-align: middle;\n",
       "    }\n",
       "\n",
       "    .dataframe tbody tr th {\n",
       "        vertical-align: top;\n",
       "    }\n",
       "\n",
       "    .dataframe thead th {\n",
       "        text-align: right;\n",
       "    }\n",
       "</style>\n",
       "<table border=\"1\" class=\"dataframe\">\n",
       "  <thead>\n",
       "    <tr style=\"text-align: right;\">\n",
       "      <th></th>\n",
       "      <th>lump_sum_payment</th>\n",
       "      <th>construction_type</th>\n",
       "    </tr>\n",
       "  </thead>\n",
       "  <tbody>\n",
       "    <tr>\n",
       "      <th>count</th>\n",
       "      <td>14867</td>\n",
       "      <td>14867</td>\n",
       "    </tr>\n",
       "    <tr>\n",
       "      <th>unique</th>\n",
       "      <td>2</td>\n",
       "      <td>2</td>\n",
       "    </tr>\n",
       "    <tr>\n",
       "      <th>top</th>\n",
       "      <td>not_lpsm</td>\n",
       "      <td>sb</td>\n",
       "    </tr>\n",
       "    <tr>\n",
       "      <th>freq</th>\n",
       "      <td>14545</td>\n",
       "      <td>14865</td>\n",
       "    </tr>\n",
       "  </tbody>\n",
       "</table>\n",
       "</div>"
      ],
      "text/plain": [
       "       lump_sum_payment construction_type\n",
       "count             14867             14867\n",
       "unique                2                 2\n",
       "top            not_lpsm                sb\n",
       "freq              14545             14865"
      ]
     },
     "execution_count": 86,
     "metadata": {},
     "output_type": "execute_result"
    }
   ],
   "source": [
    "catcol[['lump_sum_payment',\n",
    "       'construction_type']].describe()"
   ]
  },
  {
   "cell_type": "markdown",
   "id": "7d2156e2",
   "metadata": {},
   "source": [
    "###### `encoding binary categories as 0 or 1"
   ]
  },
  {
   "cell_type": "code",
   "execution_count": 87,
   "id": "7e106639",
   "metadata": {},
   "outputs": [],
   "source": [
    "catcol2 =  catcol.copy()"
   ]
  },
  {
   "cell_type": "code",
   "execution_count": 88,
   "id": "8be72b28",
   "metadata": {},
   "outputs": [],
   "source": [
    "catcol2['Security_Type'] = np.where(catcol['Security_Type'].str.contains('direct'), 1, 0)\n"
   ]
  },
  {
   "cell_type": "code",
   "execution_count": 89,
   "id": "209baa2f",
   "metadata": {},
   "outputs": [],
   "source": [
    "catcol2['submission_of_application'] = np.where(catcol['submission_of_application'].str.contains('to_inst'), 1, 0)\n",
    "catcol2['co-applicant_credit_type'] = np.where(catcol['co-applicant_credit_type'].str.contains('CIB'), 1, 0)\n",
    "catcol2['Secured_by'] = np.where(catcol['Secured_by'].str.contains('home'), 1, 0)\n",
    "catcol2['interest_only'] = np.where(catcol['interest_only'].str.contains('not_int'), 1, 0)\n",
    "catcol2['Neg_ammortization'] = np.where(catcol['Neg_ammortization'].str.contains('not_neg'), 1, 0)\n",
    "catcol2['business_or_commercial'] = np.where(catcol['business_or_commercial'].str.contains('nob/c'), 1, 0)\n",
    "catcol2['open_credit'] = np.where(catcol['open_credit'].str.contains('nopc'), 1, 0)\n",
    "catcol2['Credit_Worthiness'] = np.where(catcol['Credit_Worthiness'].str.contains('l1'), 1, 0)\n",
    "catcol2['lump_sum_payment'] = np.where(catcol['lump_sum_payment'].str.contains('not_lpsm'), 1, 0)\n",
    "catcol2['construction_type'] = np.where(catcol['construction_type'].str.contains('sb'), 1, 0)\n",
    "\n"
   ]
  },
  {
   "cell_type": "markdown",
   "id": "28bd853c",
   "metadata": {},
   "source": [
    "###### encode age with the mean of the age range value"
   ]
  },
  {
   "cell_type": "code",
   "execution_count": 90,
   "id": "b634ded1",
   "metadata": {},
   "outputs": [
    {
     "data": {
      "text/plain": [
       "array(['25-34', '35-44', '45-54', '55-64', '65-74', '<25', '>74'],\n",
       "      dtype=object)"
      ]
     },
     "execution_count": 90,
     "metadata": {},
     "output_type": "execute_result"
    }
   ],
   "source": [
    "catcol.age.unique()"
   ]
  },
  {
   "cell_type": "code",
   "execution_count": 91,
   "id": "c0cad8b2",
   "metadata": {},
   "outputs": [
    {
     "data": {
      "text/plain": [
       "7.5"
      ]
     },
     "execution_count": 91,
     "metadata": {},
     "output_type": "execute_result"
    }
   ],
   "source": [
    "np.mean([7,8])"
   ]
  },
  {
   "cell_type": "code",
   "execution_count": 92,
   "id": "090c26d1",
   "metadata": {},
   "outputs": [
    {
     "data": {
      "text/plain": [
       "[25, 45]"
      ]
     },
     "execution_count": 92,
     "metadata": {},
     "output_type": "execute_result"
    }
   ],
   "source": [
    "a = '25-45'\n",
    "list(map(int, a.split('-')))"
   ]
  },
  {
   "cell_type": "code",
   "execution_count": 93,
   "id": "1775e19f",
   "metadata": {},
   "outputs": [],
   "source": [
    "def mean_age(x):\n",
    "    if x.startswith('<'):\n",
    "        return int(x[1:])\n",
    "    else:\n",
    "        return np.mean(list(map(int, a.split('-'))))\n",
    "catcol2['agemean'] = catcol['age'].apply(mean_age)"
   ]
  },
  {
   "cell_type": "code",
   "execution_count": 94,
   "id": "e7bcad24",
   "metadata": {},
   "outputs": [
    {
     "data": {
      "text/plain": [
       "0        35.0\n",
       "1        35.0\n",
       "2        35.0\n",
       "3        35.0\n",
       "4        35.0\n",
       "         ... \n",
       "14862    35.0\n",
       "14863    35.0\n",
       "14864    35.0\n",
       "14865    35.0\n",
       "14866    35.0\n",
       "Name: agemean, Length: 14867, dtype: float64"
      ]
     },
     "execution_count": 94,
     "metadata": {},
     "output_type": "execute_result"
    }
   ],
   "source": [
    "catcol2.agemean"
   ]
  },
  {
   "cell_type": "code",
   "execution_count": 95,
   "id": "f5d29e51",
   "metadata": {},
   "outputs": [],
   "source": [
    "catcol2.drop('age', axis=1, inplace=True)"
   ]
  },
  {
   "cell_type": "markdown",
   "id": "e5022536",
   "metadata": {},
   "source": [
    "###### Encode other multiple category variables using binaryencoding"
   ]
  },
  {
   "cell_type": "code",
   "execution_count": 96,
   "id": "1a066acb",
   "metadata": {},
   "outputs": [],
   "source": [
    "from sklearn.preprocessing import LabelEncoder\n",
    "\n",
    "lb_make = LabelEncoder()\n",
    "catcol2['loan_limit'] = lb_make.fit_transform(catcol2['loan_limit'])\n",
    "catcol2['Gender'] = lb_make.fit_transform(catcol2['Gender'])\n",
    "catcol2['approv_in_adv'] = lb_make.fit_transform(catcol2['approv_in_adv'])\n",
    "catcol2['loan_type'] = lb_make.fit_transform(catcol2['loan_type'])\n",
    "catcol2['loan_purpose'] = lb_make.fit_transform(catcol2['loan_purpose'])\n",
    "catcol2['occupancy_type'] = lb_make.fit_transform(catcol2['occupancy_type'])\n",
    "catcol2['total_units'] = lb_make.fit_transform(catcol2['total_units'])\n",
    "catcol2['credit_type'] = lb_make.fit_transform(catcol2['credit_type'])\n"
   ]
  },
  {
   "cell_type": "code",
   "execution_count": 97,
   "id": "d6890136",
   "metadata": {},
   "outputs": [
    {
     "data": {
      "text/plain": [
       "0    13583\n",
       "2      951\n",
       "1      333\n",
       "Name: loan_limit, dtype: int64"
      ]
     },
     "execution_count": 97,
     "metadata": {},
     "output_type": "execute_result"
    }
   ],
   "source": [
    "catcol2.loan_limit.value_counts()"
   ]
  },
  {
   "cell_type": "code",
   "execution_count": 98,
   "id": "03a27823",
   "metadata": {},
   "outputs": [
    {
     "data": {
      "text/plain": [
       "2    4323\n",
       "1    4053\n",
       "3    3752\n",
       "0    2739\n",
       "Name: Gender, dtype: int64"
      ]
     },
     "execution_count": 98,
     "metadata": {},
     "output_type": "execute_result"
    }
   ],
   "source": [
    "catcol2.Gender.value_counts()"
   ]
  },
  {
   "cell_type": "code",
   "execution_count": 99,
   "id": "88fdec36",
   "metadata": {},
   "outputs": [
    {
     "data": {
      "text/plain": [
       "1    12522\n",
       "2     2265\n",
       "0       80\n",
       "Name: approv_in_adv, dtype: int64"
      ]
     },
     "execution_count": 99,
     "metadata": {},
     "output_type": "execute_result"
    }
   ],
   "source": [
    "catcol2['approv_in_adv'].value_counts()"
   ]
  },
  {
   "cell_type": "code",
   "execution_count": 100,
   "id": "93ecd4ac",
   "metadata": {},
   "outputs": [
    {
     "name": "stdout",
     "output_type": "stream",
     "text": [
      "<class 'pandas.core.frame.DataFrame'>\n",
      "RangeIndex: 14867 entries, 0 to 14866\n",
      "Data columns (total 22 columns):\n",
      " #   Column                     Non-Null Count  Dtype  \n",
      "---  ------                     --------------  -----  \n",
      " 0   loan_limit                 14867 non-null  int32  \n",
      " 1   Gender                     14867 non-null  int32  \n",
      " 2   approv_in_adv              14867 non-null  int32  \n",
      " 3   loan_type                  14867 non-null  int32  \n",
      " 4   loan_purpose               14867 non-null  int32  \n",
      " 5   Credit_Worthiness          14867 non-null  int32  \n",
      " 6   open_credit                14867 non-null  int32  \n",
      " 7   business_or_commercial     14867 non-null  int32  \n",
      " 8   Neg_ammortization          14867 non-null  int32  \n",
      " 9   interest_only              14867 non-null  int32  \n",
      " 10  lump_sum_payment           14867 non-null  int32  \n",
      " 11  construction_type          14867 non-null  int32  \n",
      " 12  occupancy_type             14867 non-null  int32  \n",
      " 13  Secured_by                 14867 non-null  int32  \n",
      " 14  total_units                14867 non-null  int32  \n",
      " 15  credit_type                14867 non-null  int32  \n",
      " 16  co-applicant_credit_type   14867 non-null  int32  \n",
      " 17  submission_of_application  14867 non-null  int32  \n",
      " 18  Region                     14867 non-null  object \n",
      " 19  Security_Type              14867 non-null  int32  \n",
      " 20  target                     14867 non-null  object \n",
      " 21  agemean                    14867 non-null  float64\n",
      "dtypes: float64(1), int32(19), object(2)\n",
      "memory usage: 1.4+ MB\n"
     ]
    }
   ],
   "source": [
    "catcol2.info()"
   ]
  },
  {
   "cell_type": "code",
   "execution_count": 101,
   "id": "8c26c465",
   "metadata": {},
   "outputs": [],
   "source": [
    "catcol2['Region'] = lb_make.fit_transform(catcol2['Region'])"
   ]
  },
  {
   "cell_type": "code",
   "execution_count": 102,
   "id": "e7ce5d33",
   "metadata": {},
   "outputs": [
    {
     "data": {
      "text/plain": [
       "0    7474\n",
       "3    6424\n",
       "2     845\n",
       "1     124\n",
       "Name: Region, dtype: int64"
      ]
     },
     "execution_count": 102,
     "metadata": {},
     "output_type": "execute_result"
    }
   ],
   "source": [
    "catcol2['Region'].value_counts()"
   ]
  },
  {
   "cell_type": "code",
   "execution_count": 103,
   "id": "c2779c58",
   "metadata": {},
   "outputs": [],
   "source": [
    "catcol2['target'] = lb_make.fit_transform(catcol2['target'])"
   ]
  },
  {
   "cell_type": "code",
   "execution_count": 104,
   "id": "69b234c5",
   "metadata": {},
   "outputs": [
    {
     "data": {
      "text/plain": [
       "0    11203\n",
       "1     3664\n",
       "Name: target, dtype: int64"
      ]
     },
     "execution_count": 104,
     "metadata": {},
     "output_type": "execute_result"
    }
   ],
   "source": [
    "catcol2.target.value_counts()"
   ]
  },
  {
   "cell_type": "markdown",
   "id": "6c2f78d3",
   "metadata": {},
   "source": [
    "### Removing Redundant variables that could cause noise"
   ]
  },
  {
   "cell_type": "markdown",
   "id": "d5a8638f",
   "metadata": {},
   "source": [
    "###### Find the correlation btw previous categorical columns, to avoid problem due to multicolinearity"
   ]
  },
  {
   "cell_type": "code",
   "execution_count": 105,
   "id": "ef1a3774",
   "metadata": {},
   "outputs": [
    {
     "data": {
      "image/png": "[encoded data removed]",
      "text/plain": [
       "<Figure size 1440x1440 with 2 Axes>"
      ]
     },
     "metadata": {
      "needs_background": "light"
     },
     "output_type": "display_data"
    }
   ],
   "source": [
    "X = catcol2.loc[:,[col for col in catcol2.columns if col not in ['target']]]  #independent columns\n",
    "y = catcol2.loc[:,'target']    #target column i.e status\n",
    "#get correlations of each features in dataset\n",
    "corrmat = catcol2.corr()\n",
    "top_corr_features = corrmat.index\n",
    "plt.figure(figsize=(20,20))\n",
    "#plot heat map\n",
    "g=sns.heatmap(catcol2[top_corr_features].corr(),annot=True,cmap=\"RdYlGn\")"
   ]
  },
  {
   "cell_type": "code",
   "execution_count": 106,
   "id": "a0d6c4c5",
   "metadata": {},
   "outputs": [
    {
     "data": {
      "text/plain": [
       "array(['direct', 'Indriect'], dtype=object)"
      ]
     },
     "execution_count": 106,
     "metadata": {},
     "output_type": "execute_result"
    }
   ],
   "source": [
    "catcol['Security_Type'].unique()"
   ]
  },
  {
   "cell_type": "code",
   "execution_count": 107,
   "id": "b416d08a",
   "metadata": {},
   "outputs": [
    {
     "data": {
      "text/plain": [
       "array(['home', 'land'], dtype=object)"
      ]
     },
     "execution_count": 107,
     "metadata": {},
     "output_type": "execute_result"
    }
   ],
   "source": [
    "catcol['Secured_by'].unique()"
   ]
  },
  {
   "cell_type": "code",
   "execution_count": 108,
   "id": "d29b9261",
   "metadata": {},
   "outputs": [
    {
     "data": {
      "text/plain": [
       "array(['sb', 'mh'], dtype=object)"
      ]
     },
     "execution_count": 108,
     "metadata": {},
     "output_type": "execute_result"
    }
   ],
   "source": [
    "catcol['construction_type'].unique()"
   ]
  },
  {
   "cell_type": "markdown",
   "id": "af4cd33e",
   "metadata": {},
   "source": [
    "###### since these 3 columns are highly correlated, only one of the columns is added to the model"
   ]
  },
  {
   "cell_type": "code",
   "execution_count": 109,
   "id": "36d1060e",
   "metadata": {},
   "outputs": [],
   "source": [
    "catcol2.drop(['Secured_by', 'construction_type'], axis=1, inplace=True)"
   ]
  },
  {
   "cell_type": "markdown",
   "id": "319030dc",
   "metadata": {},
   "source": [
    "###### Find the best features that is relevant to the target variable 'status' using feature importance from Extra tree classifier"
   ]
  },
  {
   "cell_type": "code",
   "execution_count": 110,
   "id": "a38a4e97",
   "metadata": {},
   "outputs": [
    {
     "name": "stdout",
     "output_type": "stream",
     "text": [
      "[0.0276817  0.07942002 0.03322853 0.01651272 0.07100356 0.01948698\n",
      " 0.00123785 0.01085967 0.04429662 0.01367954 0.04697834 0.02362121\n",
      " 0.01250671 0.46963862 0.05308558 0.02857286 0.0422202  0.00081725\n",
      " 0.00515203]\n"
     ]
    },
    {
     "data": {
      "image/png": "[encoded data removed]",
      "text/plain": [
       "<Figure size 432x288 with 1 Axes>"
      ]
     },
     "metadata": {
      "needs_background": "light"
     },
     "output_type": "display_data"
    }
   ],
   "source": [
    "X = catcol2.loc[:,[col for col in catcol2.columns if col not in ['target']]]  #independent columns\n",
    "y = catcol2.loc[:,'target']\n",
    "from sklearn.ensemble import ExtraTreesClassifier\n",
    "model = ExtraTreesClassifier()\n",
    "model.fit(X,y)\n",
    "print(model.feature_importances_) #use inbuilt class feature_importances of tree based classifiers\n",
    "#plot graph of feature importances for better visualization\n",
    "feat_importances = pd.Series(model.feature_importances_, index=X.columns)\n",
    "feat_importances.nlargest(15).plot(kind='barh')\n",
    "plt.show()"
   ]
  },
  {
   "cell_type": "markdown",
   "id": "3abb2404",
   "metadata": {},
   "source": [
    "###### Lets use the top 10 best features highlighted in the plot"
   ]
  },
  {
   "cell_type": "code",
   "execution_count": 111,
   "id": "9f4fdd09",
   "metadata": {},
   "outputs": [],
   "source": [
    "catcol3 = catcol2[['credit_type','Gender','loan_purpose','co-applicant_credit_type','lump_sum_payment','Region','Neg_ammortization',\n",
    "                'approv_in_adv','submission_of_application','loan_limit']]"
   ]
  },
  {
   "cell_type": "code",
   "execution_count": null,
   "id": "fafbf2c7",
   "metadata": {},
   "outputs": [],
   "source": []
  },
  {
   "cell_type": "markdown",
   "id": "f5f82b77",
   "metadata": {},
   "source": [
    "## BUILDING THE MODEL"
   ]
  },
  {
   "cell_type": "code",
   "execution_count": 112,
   "id": "4de2d989",
   "metadata": {},
   "outputs": [],
   "source": [
    "main_df = numcol[['property_value','loan_amount','rate_of_interest','income','dtir1','Status']].merge(catcol3,left_index=True, right_index=True)"
   ]
  },
  {
   "cell_type": "code",
   "execution_count": 113,
   "id": "7509c973",
   "metadata": {},
   "outputs": [
    {
     "data": {
      "text/plain": [
       "(14867, 16)"
      ]
     },
     "execution_count": 113,
     "metadata": {},
     "output_type": "execute_result"
    }
   ],
   "source": [
    "main_df.shape"
   ]
  },
  {
   "cell_type": "code",
   "execution_count": 114,
   "id": "c72064ff",
   "metadata": {},
   "outputs": [
    {
     "data": {
      "text/html": [
       "<div>\n",
       "<style scoped>\n",
       "    .dataframe tbody tr th:only-of-type {\n",
       "        vertical-align: middle;\n",
       "    }\n",
       "\n",
       "    .dataframe tbody tr th {\n",
       "        vertical-align: top;\n",
       "    }\n",
       "\n",
       "    .dataframe thead th {\n",
       "        text-align: right;\n",
       "    }\n",
       "</style>\n",
       "<table border=\"1\" class=\"dataframe\">\n",
       "  <thead>\n",
       "    <tr style=\"text-align: right;\">\n",
       "      <th></th>\n",
       "      <th>property_value</th>\n",
       "      <th>loan_amount</th>\n",
       "      <th>rate_of_interest</th>\n",
       "      <th>income</th>\n",
       "      <th>dtir1</th>\n",
       "      <th>Status</th>\n",
       "      <th>credit_type</th>\n",
       "      <th>Gender</th>\n",
       "      <th>loan_purpose</th>\n",
       "      <th>co-applicant_credit_type</th>\n",
       "      <th>lump_sum_payment</th>\n",
       "      <th>Region</th>\n",
       "      <th>Neg_ammortization</th>\n",
       "      <th>approv_in_adv</th>\n",
       "      <th>submission_of_application</th>\n",
       "      <th>loan_limit</th>\n",
       "    </tr>\n",
       "  </thead>\n",
       "  <tbody>\n",
       "    <tr>\n",
       "      <th>0</th>\n",
       "      <td>318000.0</td>\n",
       "      <td>296500</td>\n",
       "      <td>3.625</td>\n",
       "      <td>6300.0</td>\n",
       "      <td>42.0</td>\n",
       "      <td>0</td>\n",
       "      <td>1</td>\n",
       "      <td>3</td>\n",
       "      <td>0</td>\n",
       "      <td>0</td>\n",
       "      <td>1</td>\n",
       "      <td>3</td>\n",
       "      <td>1</td>\n",
       "      <td>2</td>\n",
       "      <td>1</td>\n",
       "      <td>0</td>\n",
       "    </tr>\n",
       "    <tr>\n",
       "      <th>1</th>\n",
       "      <td>608000.0</td>\n",
       "      <td>546500</td>\n",
       "      <td>3.750</td>\n",
       "      <td>7200.0</td>\n",
       "      <td>36.0</td>\n",
       "      <td>0</td>\n",
       "      <td>1</td>\n",
       "      <td>0</td>\n",
       "      <td>3</td>\n",
       "      <td>1</td>\n",
       "      <td>1</td>\n",
       "      <td>0</td>\n",
       "      <td>1</td>\n",
       "      <td>1</td>\n",
       "      <td>0</td>\n",
       "      <td>0</td>\n",
       "    </tr>\n",
       "    <tr>\n",
       "      <th>2</th>\n",
       "      <td>268000.0</td>\n",
       "      <td>216500</td>\n",
       "      <td>3.875</td>\n",
       "      <td>8400.0</td>\n",
       "      <td>31.0</td>\n",
       "      <td>0</td>\n",
       "      <td>1</td>\n",
       "      <td>0</td>\n",
       "      <td>2</td>\n",
       "      <td>0</td>\n",
       "      <td>1</td>\n",
       "      <td>3</td>\n",
       "      <td>1</td>\n",
       "      <td>2</td>\n",
       "      <td>1</td>\n",
       "      <td>0</td>\n",
       "    </tr>\n",
       "    <tr>\n",
       "      <th>3</th>\n",
       "      <td>248000.0</td>\n",
       "      <td>96500</td>\n",
       "      <td>4.875</td>\n",
       "      <td>2700.0</td>\n",
       "      <td>31.0</td>\n",
       "      <td>0</td>\n",
       "      <td>0</td>\n",
       "      <td>2</td>\n",
       "      <td>2</td>\n",
       "      <td>1</td>\n",
       "      <td>1</td>\n",
       "      <td>2</td>\n",
       "      <td>1</td>\n",
       "      <td>2</td>\n",
       "      <td>1</td>\n",
       "      <td>0</td>\n",
       "    </tr>\n",
       "    <tr>\n",
       "      <th>4</th>\n",
       "      <td>218000.0</td>\n",
       "      <td>116500</td>\n",
       "      <td>4.750</td>\n",
       "      <td>7320.0</td>\n",
       "      <td>35.0</td>\n",
       "      <td>0</td>\n",
       "      <td>1</td>\n",
       "      <td>2</td>\n",
       "      <td>2</td>\n",
       "      <td>0</td>\n",
       "      <td>1</td>\n",
       "      <td>0</td>\n",
       "      <td>1</td>\n",
       "      <td>1</td>\n",
       "      <td>1</td>\n",
       "      <td>0</td>\n",
       "    </tr>\n",
       "  </tbody>\n",
       "</table>\n",
       "</div>"
      ],
      "text/plain": [
       "   property_value  loan_amount  rate_of_interest  income  dtir1  Status  \\\n",
       "0        318000.0       296500             3.625  6300.0   42.0       0   \n",
       "1        608000.0       546500             3.750  7200.0   36.0       0   \n",
       "2        268000.0       216500             3.875  8400.0   31.0       0   \n",
       "3        248000.0        96500             4.875  2700.0   31.0       0   \n",
       "4        218000.0       116500             4.750  7320.0   35.0       0   \n",
       "\n",
       "   credit_type  Gender  loan_purpose  co-applicant_credit_type  \\\n",
       "0            1       3             0                         0   \n",
       "1            1       0             3                         1   \n",
       "2            1       0             2                         0   \n",
       "3            0       2             2                         1   \n",
       "4            1       2             2                         0   \n",
       "\n",
       "   lump_sum_payment  Region  Neg_ammortization  approv_in_adv  \\\n",
       "0                 1       3                  1              2   \n",
       "1                 1       0                  1              1   \n",
       "2                 1       3                  1              2   \n",
       "3                 1       2                  1              2   \n",
       "4                 1       0                  1              1   \n",
       "\n",
       "   submission_of_application  loan_limit  \n",
       "0                          1           0  \n",
       "1                          0           0  \n",
       "2                          1           0  \n",
       "3                          1           0  \n",
       "4                          1           0  "
      ]
     },
     "execution_count": 114,
     "metadata": {},
     "output_type": "execute_result"
    }
   ],
   "source": [
    "main_df.head()"
   ]
  },
  {
   "cell_type": "markdown",
   "id": "b8e6735a",
   "metadata": {},
   "source": [
    "###### Tree base classifier are robust to imbalance dataset. Therefore lets use the RandomForest which is an ensemble tree base algorithm. It is very robust to overfitting. Although it the missing data has been filled, the randomforest can handle missing data as well"
   ]
  },
  {
   "cell_type": "code",
   "execution_count": 115,
   "id": "f2e2146a",
   "metadata": {},
   "outputs": [],
   "source": [
    "from sklearn.model_selection import train_test_split\n",
    "from sklearn.ensemble import RandomForestClassifier"
   ]
  },
  {
   "cell_type": "code",
   "execution_count": 117,
   "id": "ce592ce9",
   "metadata": {},
   "outputs": [],
   "source": [
    "X = main_df.loc[:,[col for col in main_df if col not in ['Status']]]  #independent columns\n",
    "y = main_df.loc[:,'Status']    #target column i.e status\n",
    "X_train, X_test, y_train, y_test = train_test_split(X, y, test_size=0.30, random_state=12)"
   ]
  },
  {
   "cell_type": "code",
   "execution_count": 118,
   "id": "56365c77",
   "metadata": {},
   "outputs": [
    {
     "data": {
      "text/plain": [
       "0        0\n",
       "1        0\n",
       "2        0\n",
       "3        0\n",
       "4        0\n",
       "        ..\n",
       "14862    1\n",
       "14863    1\n",
       "14864    1\n",
       "14865    1\n",
       "14866    1\n",
       "Name: Status, Length: 14867, dtype: int64"
      ]
     },
     "execution_count": 118,
     "metadata": {},
     "output_type": "execute_result"
    }
   ],
   "source": [
    "y"
   ]
  },
  {
   "cell_type": "code",
   "execution_count": 119,
   "id": "00934d85",
   "metadata": {},
   "outputs": [
    {
     "data": {
      "text/html": [
       "<div>\n",
       "<style scoped>\n",
       "    .dataframe tbody tr th:only-of-type {\n",
       "        vertical-align: middle;\n",
       "    }\n",
       "\n",
       "    .dataframe tbody tr th {\n",
       "        vertical-align: top;\n",
       "    }\n",
       "\n",
       "    .dataframe thead th {\n",
       "        text-align: right;\n",
       "    }\n",
       "</style>\n",
       "<table border=\"1\" class=\"dataframe\">\n",
       "  <thead>\n",
       "    <tr style=\"text-align: right;\">\n",
       "      <th></th>\n",
       "      <th>property_value</th>\n",
       "      <th>loan_amount</th>\n",
       "      <th>rate_of_interest</th>\n",
       "      <th>income</th>\n",
       "      <th>dtir1</th>\n",
       "      <th>credit_type</th>\n",
       "      <th>Gender</th>\n",
       "      <th>loan_purpose</th>\n",
       "      <th>co-applicant_credit_type</th>\n",
       "      <th>lump_sum_payment</th>\n",
       "      <th>Region</th>\n",
       "      <th>Neg_ammortization</th>\n",
       "      <th>approv_in_adv</th>\n",
       "      <th>submission_of_application</th>\n",
       "      <th>loan_limit</th>\n",
       "    </tr>\n",
       "  </thead>\n",
       "  <tbody>\n",
       "    <tr>\n",
       "      <th>0</th>\n",
       "      <td>318000.000000</td>\n",
       "      <td>296500</td>\n",
       "      <td>3.6250</td>\n",
       "      <td>6300.0</td>\n",
       "      <td>42.000000</td>\n",
       "      <td>1</td>\n",
       "      <td>3</td>\n",
       "      <td>0</td>\n",
       "      <td>0</td>\n",
       "      <td>1</td>\n",
       "      <td>3</td>\n",
       "      <td>1</td>\n",
       "      <td>2</td>\n",
       "      <td>1</td>\n",
       "      <td>0</td>\n",
       "    </tr>\n",
       "    <tr>\n",
       "      <th>1</th>\n",
       "      <td>608000.000000</td>\n",
       "      <td>546500</td>\n",
       "      <td>3.7500</td>\n",
       "      <td>7200.0</td>\n",
       "      <td>36.000000</td>\n",
       "      <td>1</td>\n",
       "      <td>0</td>\n",
       "      <td>3</td>\n",
       "      <td>1</td>\n",
       "      <td>1</td>\n",
       "      <td>0</td>\n",
       "      <td>1</td>\n",
       "      <td>1</td>\n",
       "      <td>0</td>\n",
       "      <td>0</td>\n",
       "    </tr>\n",
       "    <tr>\n",
       "      <th>2</th>\n",
       "      <td>268000.000000</td>\n",
       "      <td>216500</td>\n",
       "      <td>3.8750</td>\n",
       "      <td>8400.0</td>\n",
       "      <td>31.000000</td>\n",
       "      <td>1</td>\n",
       "      <td>0</td>\n",
       "      <td>2</td>\n",
       "      <td>0</td>\n",
       "      <td>1</td>\n",
       "      <td>3</td>\n",
       "      <td>1</td>\n",
       "      <td>2</td>\n",
       "      <td>1</td>\n",
       "      <td>0</td>\n",
       "    </tr>\n",
       "    <tr>\n",
       "      <th>3</th>\n",
       "      <td>248000.000000</td>\n",
       "      <td>96500</td>\n",
       "      <td>4.8750</td>\n",
       "      <td>2700.0</td>\n",
       "      <td>31.000000</td>\n",
       "      <td>0</td>\n",
       "      <td>2</td>\n",
       "      <td>2</td>\n",
       "      <td>1</td>\n",
       "      <td>1</td>\n",
       "      <td>2</td>\n",
       "      <td>1</td>\n",
       "      <td>2</td>\n",
       "      <td>1</td>\n",
       "      <td>0</td>\n",
       "    </tr>\n",
       "    <tr>\n",
       "      <th>4</th>\n",
       "      <td>218000.000000</td>\n",
       "      <td>116500</td>\n",
       "      <td>4.7500</td>\n",
       "      <td>7320.0</td>\n",
       "      <td>35.000000</td>\n",
       "      <td>1</td>\n",
       "      <td>2</td>\n",
       "      <td>2</td>\n",
       "      <td>0</td>\n",
       "      <td>1</td>\n",
       "      <td>0</td>\n",
       "      <td>1</td>\n",
       "      <td>1</td>\n",
       "      <td>1</td>\n",
       "      <td>0</td>\n",
       "    </tr>\n",
       "    <tr>\n",
       "      <th>...</th>\n",
       "      <td>...</td>\n",
       "      <td>...</td>\n",
       "      <td>...</td>\n",
       "      <td>...</td>\n",
       "      <td>...</td>\n",
       "      <td>...</td>\n",
       "      <td>...</td>\n",
       "      <td>...</td>\n",
       "      <td>...</td>\n",
       "      <td>...</td>\n",
       "      <td>...</td>\n",
       "      <td>...</td>\n",
       "      <td>...</td>\n",
       "      <td>...</td>\n",
       "      <td>...</td>\n",
       "    </tr>\n",
       "    <tr>\n",
       "      <th>14862</th>\n",
       "      <td>428000.000000</td>\n",
       "      <td>346500</td>\n",
       "      <td>4.1872</td>\n",
       "      <td>0.0</td>\n",
       "      <td>75.653281</td>\n",
       "      <td>3</td>\n",
       "      <td>0</td>\n",
       "      <td>3</td>\n",
       "      <td>1</td>\n",
       "      <td>1</td>\n",
       "      <td>0</td>\n",
       "      <td>1</td>\n",
       "      <td>1</td>\n",
       "      <td>1</td>\n",
       "      <td>0</td>\n",
       "    </tr>\n",
       "    <tr>\n",
       "      <th>14863</th>\n",
       "      <td>75.653281</td>\n",
       "      <td>76500</td>\n",
       "      <td>4.1872</td>\n",
       "      <td>2040.0</td>\n",
       "      <td>75.653281</td>\n",
       "      <td>2</td>\n",
       "      <td>3</td>\n",
       "      <td>2</td>\n",
       "      <td>0</td>\n",
       "      <td>1</td>\n",
       "      <td>3</td>\n",
       "      <td>1</td>\n",
       "      <td>1</td>\n",
       "      <td>1</td>\n",
       "      <td>0</td>\n",
       "    </tr>\n",
       "    <tr>\n",
       "      <th>14864</th>\n",
       "      <td>228000.000000</td>\n",
       "      <td>216500</td>\n",
       "      <td>4.1872</td>\n",
       "      <td>0.0</td>\n",
       "      <td>75.653281</td>\n",
       "      <td>3</td>\n",
       "      <td>3</td>\n",
       "      <td>3</td>\n",
       "      <td>0</td>\n",
       "      <td>1</td>\n",
       "      <td>3</td>\n",
       "      <td>1</td>\n",
       "      <td>1</td>\n",
       "      <td>1</td>\n",
       "      <td>0</td>\n",
       "    </tr>\n",
       "    <tr>\n",
       "      <th>14865</th>\n",
       "      <td>858000.000000</td>\n",
       "      <td>296500</td>\n",
       "      <td>4.1872</td>\n",
       "      <td>10200.0</td>\n",
       "      <td>47.000000</td>\n",
       "      <td>3</td>\n",
       "      <td>2</td>\n",
       "      <td>2</td>\n",
       "      <td>1</td>\n",
       "      <td>1</td>\n",
       "      <td>3</td>\n",
       "      <td>0</td>\n",
       "      <td>1</td>\n",
       "      <td>0</td>\n",
       "      <td>0</td>\n",
       "    </tr>\n",
       "    <tr>\n",
       "      <th>14866</th>\n",
       "      <td>75.653281</td>\n",
       "      <td>286500</td>\n",
       "      <td>4.1872</td>\n",
       "      <td>10620.0</td>\n",
       "      <td>75.653281</td>\n",
       "      <td>2</td>\n",
       "      <td>1</td>\n",
       "      <td>3</td>\n",
       "      <td>0</td>\n",
       "      <td>0</td>\n",
       "      <td>0</td>\n",
       "      <td>1</td>\n",
       "      <td>1</td>\n",
       "      <td>1</td>\n",
       "      <td>0</td>\n",
       "    </tr>\n",
       "  </tbody>\n",
       "</table>\n",
       "<p>14867 rows × 15 columns</p>\n",
       "</div>"
      ],
      "text/plain": [
       "       property_value  loan_amount  rate_of_interest   income      dtir1  \\\n",
       "0       318000.000000       296500            3.6250   6300.0  42.000000   \n",
       "1       608000.000000       546500            3.7500   7200.0  36.000000   \n",
       "2       268000.000000       216500            3.8750   8400.0  31.000000   \n",
       "3       248000.000000        96500            4.8750   2700.0  31.000000   \n",
       "4       218000.000000       116500            4.7500   7320.0  35.000000   \n",
       "...               ...          ...               ...      ...        ...   \n",
       "14862   428000.000000       346500            4.1872      0.0  75.653281   \n",
       "14863       75.653281        76500            4.1872   2040.0  75.653281   \n",
       "14864   228000.000000       216500            4.1872      0.0  75.653281   \n",
       "14865   858000.000000       296500            4.1872  10200.0  47.000000   \n",
       "14866       75.653281       286500            4.1872  10620.0  75.653281   \n",
       "\n",
       "       credit_type  Gender  loan_purpose  co-applicant_credit_type  \\\n",
       "0                1       3             0                         0   \n",
       "1                1       0             3                         1   \n",
       "2                1       0             2                         0   \n",
       "3                0       2             2                         1   \n",
       "4                1       2             2                         0   \n",
       "...            ...     ...           ...                       ...   \n",
       "14862            3       0             3                         1   \n",
       "14863            2       3             2                         0   \n",
       "14864            3       3             3                         0   \n",
       "14865            3       2             2                         1   \n",
       "14866            2       1             3                         0   \n",
       "\n",
       "       lump_sum_payment  Region  Neg_ammortization  approv_in_adv  \\\n",
       "0                     1       3                  1              2   \n",
       "1                     1       0                  1              1   \n",
       "2                     1       3                  1              2   \n",
       "3                     1       2                  1              2   \n",
       "4                     1       0                  1              1   \n",
       "...                 ...     ...                ...            ...   \n",
       "14862                 1       0                  1              1   \n",
       "14863                 1       3                  1              1   \n",
       "14864                 1       3                  1              1   \n",
       "14865                 1       3                  0              1   \n",
       "14866                 0       0                  1              1   \n",
       "\n",
       "       submission_of_application  loan_limit  \n",
       "0                              1           0  \n",
       "1                              0           0  \n",
       "2                              1           0  \n",
       "3                              1           0  \n",
       "4                              1           0  \n",
       "...                          ...         ...  \n",
       "14862                          1           0  \n",
       "14863                          1           0  \n",
       "14864                          1           0  \n",
       "14865                          0           0  \n",
       "14866                          1           0  \n",
       "\n",
       "[14867 rows x 15 columns]"
      ]
     },
     "execution_count": 119,
     "metadata": {},
     "output_type": "execute_result"
    }
   ],
   "source": [
    "X"
   ]
  },
  {
   "cell_type": "code",
   "execution_count": 120,
   "id": "1ab35617",
   "metadata": {},
   "outputs": [
    {
     "data": {
      "text/plain": [
       "0    3341\n",
       "1    1120\n",
       "Name: Status, dtype: int64"
      ]
     },
     "execution_count": 120,
     "metadata": {},
     "output_type": "execute_result"
    }
   ],
   "source": [
    "y_test.value_counts()"
   ]
  },
  {
   "cell_type": "code",
   "execution_count": 121,
   "id": "d52ff5e4",
   "metadata": {},
   "outputs": [
    {
     "data": {
      "text/plain": [
       "0    7862\n",
       "1    2544\n",
       "Name: Status, dtype: int64"
      ]
     },
     "execution_count": 121,
     "metadata": {},
     "output_type": "execute_result"
    }
   ],
   "source": [
    "y_train.value_counts()"
   ]
  },
  {
   "cell_type": "code",
   "execution_count": 122,
   "id": "a57f0ad5",
   "metadata": {},
   "outputs": [
    {
     "data": {
      "text/plain": [
       "RandomForestClassifier()"
      ]
     },
     "execution_count": 122,
     "metadata": {},
     "output_type": "execute_result"
    }
   ],
   "source": [
    "# train the forest using 100 decision trees\n",
    "clf=RandomForestClassifier(n_estimators=100)\n",
    "\n",
    "#Train the model using the training sets)\n",
    "clf.fit(X_train,y_train)"
   ]
  },
  {
   "cell_type": "code",
   "execution_count": 123,
   "id": "0471f714",
   "metadata": {},
   "outputs": [],
   "source": [
    "y_pred=clf.predict(X_test)"
   ]
  },
  {
   "cell_type": "code",
   "execution_count": 124,
   "id": "72d4c3d6",
   "metadata": {},
   "outputs": [
    {
     "data": {
      "text/plain": [
       "array([0, 0, 0, ..., 1, 1, 0], dtype=int64)"
      ]
     },
     "execution_count": 124,
     "metadata": {},
     "output_type": "execute_result"
    }
   ],
   "source": [
    "y_pred"
   ]
  },
  {
   "cell_type": "markdown",
   "id": "45a20fee",
   "metadata": {},
   "source": [
    "## EVALUATING MODEL PERFORMANCE"
   ]
  },
  {
   "cell_type": "code",
   "execution_count": 125,
   "id": "46c81fba",
   "metadata": {},
   "outputs": [
    {
     "name": "stdout",
     "output_type": "stream",
     "text": [
      "Accuracy: 0.9995516700291415\n"
     ]
    }
   ],
   "source": [
    "#Import scikit-learn metrics module for accuracy calculation\n",
    "from sklearn import metrics\n",
    "# Model Accuracy, how often is the classifier correct?\n",
    "print(\"Accuracy:\",metrics.accuracy_score(y_test, y_pred))"
   ]
  },
  {
   "cell_type": "code",
   "execution_count": 126,
   "id": "ad11ca39",
   "metadata": {},
   "outputs": [
    {
     "data": {
      "text/plain": [
       "0    3341\n",
       "1    1120\n",
       "Name: Status, dtype: int64"
      ]
     },
     "execution_count": 126,
     "metadata": {},
     "output_type": "execute_result"
    }
   ],
   "source": [
    "y_test.value_counts()"
   ]
  },
  {
   "cell_type": "code",
   "execution_count": 127,
   "id": "2dafe54e",
   "metadata": {},
   "outputs": [],
   "source": [
    "result_df = pd.DataFrame({'y_test':y_test, 'y_pred':y_pred})"
   ]
  },
  {
   "cell_type": "code",
   "execution_count": 128,
   "id": "ecc09de1",
   "metadata": {},
   "outputs": [
    {
     "data": {
      "text/html": [
       "<div>\n",
       "<style scoped>\n",
       "    .dataframe tbody tr th:only-of-type {\n",
       "        vertical-align: middle;\n",
       "    }\n",
       "\n",
       "    .dataframe tbody tr th {\n",
       "        vertical-align: top;\n",
       "    }\n",
       "\n",
       "    .dataframe thead th {\n",
       "        text-align: right;\n",
       "    }\n",
       "</style>\n",
       "<table border=\"1\" class=\"dataframe\">\n",
       "  <thead>\n",
       "    <tr style=\"text-align: right;\">\n",
       "      <th></th>\n",
       "      <th>y_test</th>\n",
       "      <th>y_pred</th>\n",
       "    </tr>\n",
       "  </thead>\n",
       "  <tbody>\n",
       "    <tr>\n",
       "      <th>8481</th>\n",
       "      <td>0</td>\n",
       "      <td>0</td>\n",
       "    </tr>\n",
       "    <tr>\n",
       "      <th>9566</th>\n",
       "      <td>0</td>\n",
       "      <td>0</td>\n",
       "    </tr>\n",
       "    <tr>\n",
       "      <th>5882</th>\n",
       "      <td>0</td>\n",
       "      <td>0</td>\n",
       "    </tr>\n",
       "    <tr>\n",
       "      <th>5688</th>\n",
       "      <td>0</td>\n",
       "      <td>0</td>\n",
       "    </tr>\n",
       "    <tr>\n",
       "      <th>2608</th>\n",
       "      <td>0</td>\n",
       "      <td>0</td>\n",
       "    </tr>\n",
       "    <tr>\n",
       "      <th>...</th>\n",
       "      <td>...</td>\n",
       "      <td>...</td>\n",
       "    </tr>\n",
       "    <tr>\n",
       "      <th>7071</th>\n",
       "      <td>0</td>\n",
       "      <td>0</td>\n",
       "    </tr>\n",
       "    <tr>\n",
       "      <th>364</th>\n",
       "      <td>0</td>\n",
       "      <td>0</td>\n",
       "    </tr>\n",
       "    <tr>\n",
       "      <th>13528</th>\n",
       "      <td>1</td>\n",
       "      <td>1</td>\n",
       "    </tr>\n",
       "    <tr>\n",
       "      <th>14713</th>\n",
       "      <td>1</td>\n",
       "      <td>1</td>\n",
       "    </tr>\n",
       "    <tr>\n",
       "      <th>1738</th>\n",
       "      <td>0</td>\n",
       "      <td>0</td>\n",
       "    </tr>\n",
       "  </tbody>\n",
       "</table>\n",
       "<p>4461 rows × 2 columns</p>\n",
       "</div>"
      ],
      "text/plain": [
       "       y_test  y_pred\n",
       "8481        0       0\n",
       "9566        0       0\n",
       "5882        0       0\n",
       "5688        0       0\n",
       "2608        0       0\n",
       "...       ...     ...\n",
       "7071        0       0\n",
       "364         0       0\n",
       "13528       1       1\n",
       "14713       1       1\n",
       "1738        0       0\n",
       "\n",
       "[4461 rows x 2 columns]"
      ]
     },
     "execution_count": 128,
     "metadata": {},
     "output_type": "execute_result"
    }
   ],
   "source": [
    "result_df"
   ]
  },
  {
   "cell_type": "code",
   "execution_count": 129,
   "id": "8e477350",
   "metadata": {},
   "outputs": [
    {
     "data": {
      "text/html": [
       "<div>\n",
       "<style scoped>\n",
       "    .dataframe tbody tr th:only-of-type {\n",
       "        vertical-align: middle;\n",
       "    }\n",
       "\n",
       "    .dataframe tbody tr th {\n",
       "        vertical-align: top;\n",
       "    }\n",
       "\n",
       "    .dataframe thead th {\n",
       "        text-align: right;\n",
       "    }\n",
       "</style>\n",
       "<table border=\"1\" class=\"dataframe\">\n",
       "  <thead>\n",
       "    <tr style=\"text-align: right;\">\n",
       "      <th></th>\n",
       "      <th>y_test</th>\n",
       "      <th>y_pred</th>\n",
       "    </tr>\n",
       "  </thead>\n",
       "  <tbody>\n",
       "    <tr>\n",
       "      <th>13447</th>\n",
       "      <td>1</td>\n",
       "      <td>1</td>\n",
       "    </tr>\n",
       "    <tr>\n",
       "      <th>13118</th>\n",
       "      <td>1</td>\n",
       "      <td>1</td>\n",
       "    </tr>\n",
       "    <tr>\n",
       "      <th>14346</th>\n",
       "      <td>1</td>\n",
       "      <td>1</td>\n",
       "    </tr>\n",
       "    <tr>\n",
       "      <th>12528</th>\n",
       "      <td>1</td>\n",
       "      <td>1</td>\n",
       "    </tr>\n",
       "    <tr>\n",
       "      <th>14464</th>\n",
       "      <td>1</td>\n",
       "      <td>1</td>\n",
       "    </tr>\n",
       "    <tr>\n",
       "      <th>...</th>\n",
       "      <td>...</td>\n",
       "      <td>...</td>\n",
       "    </tr>\n",
       "    <tr>\n",
       "      <th>14689</th>\n",
       "      <td>1</td>\n",
       "      <td>1</td>\n",
       "    </tr>\n",
       "    <tr>\n",
       "      <th>13331</th>\n",
       "      <td>1</td>\n",
       "      <td>1</td>\n",
       "    </tr>\n",
       "    <tr>\n",
       "      <th>13475</th>\n",
       "      <td>1</td>\n",
       "      <td>1</td>\n",
       "    </tr>\n",
       "    <tr>\n",
       "      <th>13528</th>\n",
       "      <td>1</td>\n",
       "      <td>1</td>\n",
       "    </tr>\n",
       "    <tr>\n",
       "      <th>14713</th>\n",
       "      <td>1</td>\n",
       "      <td>1</td>\n",
       "    </tr>\n",
       "  </tbody>\n",
       "</table>\n",
       "<p>1120 rows × 2 columns</p>\n",
       "</div>"
      ],
      "text/plain": [
       "       y_test  y_pred\n",
       "13447       1       1\n",
       "13118       1       1\n",
       "14346       1       1\n",
       "12528       1       1\n",
       "14464       1       1\n",
       "...       ...     ...\n",
       "14689       1       1\n",
       "13331       1       1\n",
       "13475       1       1\n",
       "13528       1       1\n",
       "14713       1       1\n",
       "\n",
       "[1120 rows x 2 columns]"
      ]
     },
     "execution_count": 129,
     "metadata": {},
     "output_type": "execute_result"
    }
   ],
   "source": [
    "result_df.loc[result_df['y_test']==1]"
   ]
  },
  {
   "cell_type": "markdown",
   "id": "c100e1c8",
   "metadata": {},
   "source": [
    "###### Since this is an imbalance data, other evaluation metrics such as the precision and recall should also be use.\n",
    "###### Precision tells us the quality of true positve prediction of the model. Recall gives the quantity of true positive prediction of the model"
   ]
  },
  {
   "cell_type": "code",
   "execution_count": 130,
   "id": "34a151ba",
   "metadata": {},
   "outputs": [],
   "source": [
    "from sklearn.metrics import confusion_matrix, classification_report\n",
    "cm = confusion_matrix(y_test, y_pred)"
   ]
  },
  {
   "cell_type": "code",
   "execution_count": 131,
   "id": "9448351c",
   "metadata": {},
   "outputs": [
    {
     "data": {
      "text/plain": [
       "array([[3339,    2],\n",
       "       [   0, 1120]], dtype=int64)"
      ]
     },
     "execution_count": 131,
     "metadata": {},
     "output_type": "execute_result"
    }
   ],
   "source": [
    "cm"
   ]
  },
  {
   "cell_type": "code",
   "execution_count": 132,
   "id": "c8a0c616",
   "metadata": {},
   "outputs": [
    {
     "name": "stdout",
     "output_type": "stream",
     "text": [
      "              precision    recall  f1-score   support\n",
      "\n",
      "           0       1.00      1.00      1.00      3341\n",
      "           1       1.00      1.00      1.00      1120\n",
      "\n",
      "    accuracy                           1.00      4461\n",
      "   macro avg       1.00      1.00      1.00      4461\n",
      "weighted avg       1.00      1.00      1.00      4461\n",
      "\n"
     ]
    }
   ],
   "source": [
    "print(classification_report(y_test, y_pred))"
   ]
  },
  {
   "cell_type": "markdown",
   "id": "a4c7391d",
   "metadata": {},
   "source": [
    "### CONCLUSION"
   ]
  },
  {
   "cell_type": "markdown",
   "id": "49be5fa9",
   "metadata": {},
   "source": [
    "###### The model has a high accuracy of 99.99%,  precision of 100%, recall of 100% and f1-score of 100%. This is a very good performance on the test set. Showing the model will generalize well on unseen data. \n",
    "###### For total confidence in the model, it make sense to test the model on a separate validation set which was not use in the preprocessing stage.\n"
   ]
  },
  {
   "cell_type": "code",
   "execution_count": null,
   "id": "6093910e",
   "metadata": {},
   "outputs": [],
   "source": []
  },
  {
   "cell_type": "code",
   "execution_count": null,
   "id": "596b713f",
   "metadata": {},
   "outputs": [],
   "source": []
  }
 ],
 "metadata": {
  "kernelspec": {
   "display_name": "Python 3 (ipykernel)",
   "language": "python",
   "name": "python3"
  },
  "language_info": {
   "codemirror_mode": {
    "name": "ipython",
    "version": 3
   },
   "file_extension": ".py",
   "mimetype": "text/x-python",
   "name": "python",
   "nbconvert_exporter": "python",
   "pygments_lexer": "ipython3",
   "version": "3.9.7"
  }
 },
 "nbformat": 4,
 "nbformat_minor": 5
}
